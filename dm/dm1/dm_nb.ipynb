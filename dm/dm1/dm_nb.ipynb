{
 "cells": [
  {
   "cell_type": "markdown",
   "id": "6a0d3e81",
   "metadata": {},
   "source": [
    "Devoir maison 1 Python"
   ]
  },
  {
   "cell_type": "code",
   "execution_count": null,
   "id": "39e5f419",
   "metadata": {
    "vscode": {
     "languageId": "plaintext"
    }
   },
   "outputs": [],
   "source": []
  }
 ],
 "metadata": {
  "language_info": {
   "name": "python"
  }
 },
 "nbformat": 4,
 "nbformat_minor": 5
}
