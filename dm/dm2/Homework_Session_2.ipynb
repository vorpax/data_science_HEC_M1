{
  "nbformat": 4,
  "nbformat_minor": 0,
  "metadata": {
    "colab": {
      "provenance": []
    },
    "kernelspec": {
      "name": "python3",
      "display_name": "Python 3"
    },
    "language_info": {
      "name": "python"
    }
  },
  "cells": [
    {
      "cell_type": "markdown",
      "source": [
        "# Homework for Session 2"
      ],
      "metadata": {
        "id": "tMXUekiB4VGv"
      }
    },
    {
      "cell_type": "markdown",
      "source": [
        "This data presents data on AirBnB apartments available in different neighborhoods of Paris and the characteristics of the apartments.\n",
        "\n",
        "The data set is accessible through this link:\n",
        "https://www.dropbox.com/scl/fi/5lf1phuz0nh8lxdyw5veg/AirBnb-clean.csv?rlkey=ela8bmhao0fep20ez7ox4s426&dl=1\n",
        "\n",
        "**Variables**\n",
        "- index (just the ID of the apartment)\n",
        "- price (price for one night)\n",
        "- neighborhood (among 80+ neighborhoods in Paris)\n",
        "- reviews (number of reviews written)\n",
        "- overall_satisfaction (average overall satisfaction, rounded to the closest number on a 0.5 grid between 0 and 5)\n",
        "- accommodates (number of guests that the apartment can accommodate)\n",
        "- bedrooms (number of bedrooms; 0 for studio)\n",
        "\n",
        "&nbsp;\n",
        "\n",
        "**Questions**\n",
        "\n",
        "Question are quite open. This data set is mostly a playground for you to practice.\n",
        "\n",
        "1. Load the data set. Provide some (numerical + graphical) analysis on the prices.\n",
        "\n",
        "2. Illustrate how the average prices vary with the number of guests accommodated. Improve the readability and the accuracy of the graph by grouping some accommodation categories: the one above 10 persons (explain why this is relevant).\n",
        "\n",
        "3. Graphically compare the prices between the following three neighborhoods: 'Grenelle', 'Halles', and 'Clignancourt' --- and these three neighborhoods only.\n",
        "\n",
        "4. Is there any obvious relationship between the price and the popularity of an appartment (as measured by the number of reviews)? Try to produce first a readable scatterplot. Then, group the numbers of reviews into bins and produce a mean-bar plot."
      ],
      "metadata": {
        "id": "JJCdtqP54YEP"
      }
    }
  ]
}