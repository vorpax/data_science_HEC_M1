{
  "cells": [
    {
      "cell_type": "markdown",
      "metadata": {
        "id": "mAEqkABEVZXx"
      },
      "source": [
        "## Cours introductif à la data science\n",
        "\n",
        "\n",
        "----"
      ]
    },
    {
      "cell_type": "markdown",
      "metadata": {
        "id": "xpumCFA0Phi1"
      },
      "source": [
        "# How to use a notebook\n",
        "\n",
        "Two types of cells: code (to be executed) or text (for your notes)\n",
        "\n",
        "More types with JupyterLab"
      ]
    },
    {
      "cell_type": "code",
      "execution_count": null,
      "metadata": {
        "id": "SmCac1cZPtvk"
      },
      "outputs": [],
      "source": [
        "# Comments here\n",
        "print('Hello world')\n",
        "1+3"
      ]
    },
    {
      "cell_type": "markdown",
      "metadata": {
        "id": "OSksHUO6P0qy"
      },
      "source": [
        "More comments may be put in a text cell such as this one.\n",
        "\n",
        "---\n",
        "\n",
        "\n",
        "\n",
        "---\n",
        "\n",
        "\n",
        "\n",
        "Some useful keyboard shortcuts: see the list with **Ctrl + M + H**\n",
        "\n",
        "&nbsp;\n",
        "\n",
        "Google Colab helps you to code:\n",
        "- Auto-completion via Tab key and/or lists of variables\n",
        "- Code may even be AI-generated --- we will provide examples in due time\n",
        "- AI assistant (Gemini) readily available -- both a blessing and a curse"
      ]
    },
    {
      "cell_type": "markdown",
      "metadata": {
        "id": "ttBI0kJXCOF0"
      },
      "source": [
        "# Part 1: Load, show, describe a data set\n",
        "\n",
        "Data set available at: https://www.dropbox.com/scl/fi/cafdvvkppxult940cf1zb/MoviesRatings1.csv?rlkey=pg4xagx00xspi832fakno0jla&dl=1\n",
        "\n",
        "Let's load the raw file with a text editor.\n",
        "Next, with Python:"
      ]
    },
    {
      "cell_type": "code",
      "execution_count": null,
      "metadata": {
        "id": "ZfA9SPYQQ1Yy"
      },
      "outputs": [],
      "source": [
        "# The pandas library is a collection of Python tools for data analysis\n",
        "import pandas as pd\n",
        "\n",
        "# Function read_csv reads a CSV (comma-separated values) text file\n",
        "df_movie = pd.read_csv(\"https://www.dropbox.com/scl/fi/cafdvvkppxult940cf1zb/MoviesRatings1.csv?rlkey=pg4xagx00xspi832fakno0jla&dl=1\")"
      ]
    },
    {
      "cell_type": "code",
      "execution_count": null,
      "metadata": {
        "id": "2Dtsju7BTJsT"
      },
      "outputs": [],
      "source": [
        "# Display an excerpt of the data set, as a dataframe\n",
        "df_movie"
      ]
    },
    {
      "cell_type": "markdown",
      "metadata": {
        "id": "MPn6Km30S4nE"
      },
      "source": [
        "<font color='blue'>Questions:\n",
        "* How many movies does the data set contain?\n",
        "* What do we see? (Which variables, what ranges, units, etc.?)\n",
        "</font>"
      ]
    },
    {
      "cell_type": "markdown",
      "metadata": {
        "id": "1SNf8krST6zq"
      },
      "source": [
        "### Concepts of variable, observations, and values"
      ]
    },
    {
      "cell_type": "markdown",
      "metadata": {
        "id": "pBDoj5zbAWeU"
      },
      "source": [
        "![](https://d33wubrfki0l68.cloudfront.net/6f1ddb544fc5c69a2478e444ab8112fb0eea23f8/91adc/images/tidy-1.png)\n"
      ]
    },
    {
      "cell_type": "markdown",
      "metadata": {
        "id": "cqJdLLkmklX6"
      },
      "source": [
        "Note: variable (in statistics) = feature (in machine learning), choose your preferred word!"
      ]
    },
    {
      "cell_type": "markdown",
      "metadata": {
        "id": "Naf98MWBXBbL"
      },
      "source": [
        "**Description of the movie data**\n",
        "\n",
        "In the US, there are two main websites/applications for rating movies: IMDb (https://www.imdb.com/) and Rotten Tomatoes (https://www.rottentomatoes.com/about). The French equivalent is Allociné.\n",
        "\n",
        "Variables:\n",
        "- Title (of the movie)\n",
        "- Year (of first release)\n",
        "- IMDb (= average rating, on a 1-10 scale, by IMDb users)\n",
        "- Rotten.Tomatoes (= share of positive evaluations among evaluations of this movie by professional critics, aka 'Tomatometer')\n",
        "- Runtime (of the movie, in minutes)\n",
        "\n",
        "The target variables are IMDb and Rotten.Tomatoes. We may want to relate them, for instance."
      ]
    },
    {
      "cell_type": "markdown",
      "metadata": {
        "id": "e1R9zkj_UiWy"
      },
      "source": [
        "### Describe / summarize data"
      ]
    },
    {
      "cell_type": "code",
      "execution_count": null,
      "metadata": {
        "id": "APf6HHwAVlok"
      },
      "outputs": [],
      "source": [
        "# df_movie is an object with type dataframe\n",
        "# Such objects enjoy a method 'describe()'\n",
        "\n"
      ]
    },
    {
      "cell_type": "markdown",
      "metadata": {
        "id": "xftDdPHvVRzv"
      },
      "source": [
        "<font color='blue'>Question: do IMDb and Rotten.Tomatoes ratings seem consistent?</font>"
      ]
    },
    {
      "cell_type": "markdown",
      "metadata": {
        "id": "oB_CXdDYZYAa"
      },
      "source": [
        "## Exercise 1: Ski data set\n",
        "\n",
        "We consider some French ski resorts and report the following variables for each of them:\n",
        "- **Station**: the name of the resort\n",
        "- **Price**: the price of a weekly ski pass\n",
        "- **Mountain**: the mountain area where it is located\n",
        "- **AltitudeDown**: the altitude of the village\n",
        "- **AltitudeTop**: the altitude of the top of the resort\n",
        "- **Slopes**: the number of slopes\n",
        "- **Lifts**: the number of lifts\n",
        "\n",
        "The data set is accessible through this link: https://www.dropbox.com/scl/fi/pgfw6h0x9pxbr7c01jg6k/SkiData-FRG.csv?rlkey=yupn270yn4s4xnigoeasv084e&dl=1\n",
        "\n",
        "&nbsp;\n",
        "\n",
        "Questions\n",
        "1. Load the data set: how many resorts are considered?\n",
        "2. Provide descriptive statistics on the variables:\n",
        "    - What is the median top altitude?\n",
        "    - What variables are missing in the table with descriptive statistics, and why?\n",
        "    - Provide any other interesting comment."
      ]
    },
    {
      "cell_type": "markdown",
      "metadata": {
        "id": "mUSjomLJXOI4"
      },
      "source": [
        "# Part 2: Selecting, visualizing, creating a quantitative variable with *seaborn*"
      ]
    },
    {
      "cell_type": "markdown",
      "metadata": {
        "id": "DfPQkm0e2gBy"
      },
      "source": [
        "We go back to the movie data.\n",
        "\n",
        "We want to explore more the average ratings  on the one hand (for both IMDb and Rottent Tomatoes), and the runtimes, on the other hand."
      ]
    },
    {
      "cell_type": "code",
      "execution_count": null,
      "metadata": {
        "id": "J8BtZGiKVIoO"
      },
      "outputs": [],
      "source": [
        "# Extracting one variable: using brackets\n",
        "df_movie['IMDb']"
      ]
    },
    {
      "cell_type": "markdown",
      "metadata": {
        "id": "HVp5gYAXZP1i"
      },
      "source": [
        "At this stage, it is time to remind you about auto-completion:\n",
        "- Press Tab to complete text being typed\n",
        "- Press tab to complete a lists of variables (generated depending on the context)"
      ]
    },
    {
      "cell_type": "code",
      "execution_count": null,
      "metadata": {
        "id": "MzCR_l9tXfRZ"
      },
      "outputs": [],
      "source": [
        "# df_movie['IMDb'] is an object of type 'series' (i.e., a sort of one-dimensional data frame)\n",
        "# It can also be manipulated as such, e.g.:\n",
        "df_movie['IMDb'].describe()"
      ]
    },
    {
      "cell_type": "markdown",
      "metadata": {
        "id": "Wuj3byN7GqYM"
      },
      "source": [
        "To provide graphical representation of quantitative variables, we will use the *seaborn* library"
      ]
    },
    {
      "cell_type": "code",
      "execution_count": null,
      "metadata": {
        "id": "jk8HSl1AF5Ee"
      },
      "outputs": [],
      "source": [
        "import seaborn as sns"
      ]
    },
    {
      "cell_type": "markdown",
      "metadata": {
        "id": "w1e2hKvFFyY0"
      },
      "source": [
        "### Visualizing a quantitative variable via histograms"
      ]
    },
    {
      "cell_type": "code",
      "execution_count": null,
      "metadata": {
        "id": "fpJ6r1NOF5Ef"
      },
      "outputs": [],
      "source": [
        "sns.histplot(data=df_movie, x = 'IMDb')\n",
        "\n",
        "# Or equivalently,  sns.histplot(data=df_movie['IMDb'], x = 'IMDb')\n",
        "# Or                sns.histplot(x= df_movie['IMDb'])"
      ]
    },
    {
      "cell_type": "code",
      "execution_count": null,
      "metadata": {
        "id": "yOSDjUfhF5Ef"
      },
      "outputs": [],
      "source": [
        "# To show probabilities and set the number of bins:\n",
        "sns.histplot(data=df_movie['IMDb'], bins=25, stat='probability')"
      ]
    },
    {
      "cell_type": "code",
      "execution_count": null,
      "metadata": {
        "id": "Lm9ecUhoF5Ef"
      },
      "outputs": [],
      "source": [
        "# Same for Rotten.Tomatoes:\n",
        "sns.histplot(data=df_movie['Rotten.Tomatoes'], bins=25, stat='probability')"
      ]
    },
    {
      "cell_type": "markdown",
      "metadata": {
        "id": "cG26S1ZBiP7v"
      },
      "source": [
        "<font color='blue'>Give us your thoughts (once again, but with a fresh eye) about consistency...</font>\n",
        "\n",
        "Conclusion: you learn a lot by visualizing data (compared to mere numerical statistics)!"
      ]
    },
    {
      "cell_type": "markdown",
      "metadata": {
        "id": "7LS3BUsbfoCZ"
      },
      "source": [
        "### Visualizing a quantitative variable via boxplots"
      ]
    },
    {
      "cell_type": "markdown",
      "metadata": {
        "id": "xJ81QkM4f_FH"
      },
      "source": [
        "Boxplots provide information on the median and the quartiles of a variable:\n",
        "\n",
        "* The **median** is represented with a bar\n",
        "* 50 % of the observations are **in** the box\n",
        "* 25 % of the observations are **above** the box (above Q3 = 75th percentile)\n",
        "* 25 % of the observations are **below** the box (below Q1 = 25th percentile)\n",
        "* **Extreme values** (outliers) are above/below the whiskers"
      ]
    },
    {
      "cell_type": "markdown",
      "metadata": {
        "id": "F_nnN9fogFdJ"
      },
      "source": [
        "<img src=\"https://miro.medium.com/max/9000/1*2c21SkzJMf3frPXPAR_gZA.png\" alt=\"drawing\" width=\"600\"/>"
      ]
    },
    {
      "cell_type": "code",
      "execution_count": null,
      "metadata": {
        "id": "CBfIwZd-L-Zk"
      },
      "outputs": [],
      "source": [
        "sns.boxplot(data = df_movie,x = 'IMDb')"
      ]
    },
    {
      "cell_type": "code",
      "execution_count": null,
      "metadata": {
        "id": "WNU0ynuqgSEC"
      },
      "outputs": [],
      "source": [
        "# Same, for Rotten.Tomatoes:\n",
        "sns.boxplot(data=df_movie, x= 'Rotten.Tomatoes')"
      ]
    },
    {
      "cell_type": "markdown",
      "metadata": {
        "id": "9Gx0CeGSHTcn"
      },
      "source": [
        "To make the comparison easier, show the ratings of IMDb and Rotten.Tomatoes next to each other:"
      ]
    },
    {
      "cell_type": "code",
      "execution_count": null,
      "metadata": {
        "id": "nzRvntKyHSSr"
      },
      "outputs": [],
      "source": [
        "# This selects only the required columns from the dataset df_movie:\n",
        "df_movie[['IMDb','Rotten.Tomatoes']]"
      ]
    },
    {
      "cell_type": "markdown",
      "metadata": {
        "id": "7QIHP2LVgfGT"
      },
      "source": [
        "To make the comparison easier, rescale ratings on IMDb and combine both plots in one:"
      ]
    },
    {
      "cell_type": "code",
      "execution_count": null,
      "metadata": {
        "id": "D_QoTyCqHcQn"
      },
      "outputs": [],
      "source": [
        "sns.boxplot(data=df_movie[['IMDb','Rotten.Tomatoes']])"
      ]
    },
    {
      "cell_type": "markdown",
      "metadata": {
        "id": "dUw9DwzaHdwp"
      },
      "source": [
        "There is a clear problem of *scaling*. We address it by rescaling the ratings for IMDb:"
      ]
    },
    {
      "cell_type": "code",
      "execution_count": null,
      "metadata": {
        "id": "uJKkAjNzhPGL"
      },
      "outputs": [],
      "source": [
        "# First we create a new variable for the rescaled ratings of IMDb:\n",
        "df_movie['IMDb_rescaled']=(df_movie['IMDb']-1)/9"
      ]
    },
    {
      "cell_type": "markdown",
      "metadata": {
        "id": "XVKnxvuRYdNm"
      },
      "source": [
        "We now plot the rating from IMDb (rescaled) and Rotten.Tomatoes on the same boxplot:"
      ]
    },
    {
      "cell_type": "code",
      "execution_count": null,
      "metadata": {
        "id": "SnW-IRFkZhJ4"
      },
      "outputs": [],
      "source": [
        "# On df_movie[['IMDb_rescaled','Rotten.Tomatoes']], we can use the same functions\n",
        "# as on the entire dataset. For instance:\n",
        "df_movie[['IMDb_rescaled','Rotten.Tomatoes']].describe()"
      ]
    },
    {
      "cell_type": "code",
      "execution_count": null,
      "metadata": {
        "id": "yOSCq3mRYpFj"
      },
      "outputs": [],
      "source": [
        "# We are now ready to create the new boxplot with both ratings:\n",
        "sns.boxplot(df_movie[['IMDb_rescaled','Rotten.Tomatoes']])"
      ]
    },
    {
      "cell_type": "markdown",
      "metadata": {
        "id": "8vuVFEIrhdyK"
      },
      "source": [
        "<font color='blue'>Based on the descriptive statistics and on the picture, can you comment again on the consistency of these two ratings?</font>"
      ]
    },
    {
      "cell_type": "markdown",
      "metadata": {
        "id": "Fl2qQ38Td1Bu"
      },
      "source": [
        "## Exercise 2: Ski data set, continued\n",
        "\n",
        "Define the elevation gain as the difference between altitudes at the top and at the village.\n",
        "- Analyze the elevation gain variable, both numerically and graphically.\n",
        "- Ask the AI tool from Google Colab (Gemini) which station has the smallest elevation gain.\n",
        "- Try to produce box plots and histograms of the elevation gain using boxplots (without Gemini)."
      ]
    },
    {
      "cell_type": "markdown",
      "metadata": {
        "id": "mHPzru5BbAmy"
      },
      "source": [
        "# Part 3: Visualizing a pair of quantitative variables"
      ]
    },
    {
      "cell_type": "code",
      "execution_count": null,
      "metadata": {
        "id": "EdUCB2SZuCIV"
      },
      "outputs": [],
      "source": [
        "# Fresh restart\n",
        "import pandas as pd\n",
        "import seaborn as sns\n",
        "df_ski = pd.read_csv(\"https://www.dropbox.com/scl/fi/pgfw6h0x9pxbr7c01jg6k/SkiData-FRG.csv?rlkey=yupn270yn4s4xnigoeasv084e&dl=1\")\n",
        "df_ski['ElevationGain'] = df_ski['AltitudeTop'] - df_ski['AltitudeDown']"
      ]
    },
    {
      "cell_type": "markdown",
      "metadata": {
        "id": "iNPGszVTbItZ"
      },
      "source": [
        "We now explore the relation between pairs of variables via a *scatter plot*.\n",
        "\n",
        "For instance, we can observe how the variable **ElevationGain** influences the **Price** as follows:"
      ]
    },
    {
      "cell_type": "code",
      "execution_count": null,
      "metadata": {
        "id": "2avmiH9X7VhT"
      },
      "outputs": [],
      "source": [
        "# Syntax with seaborn: sns.scatterplot\n",
        "sns.scatterplot(data=df_ski, x='ElevationGain', y='Price')"
      ]
    },
    {
      "cell_type": "markdown",
      "metadata": {
        "id": "s3IU8oNt7pWE"
      },
      "source": [
        "It looks reasonably linear! Let's draw the regression plot:"
      ]
    },
    {
      "cell_type": "code",
      "execution_count": null,
      "metadata": {
        "id": "0O6QflnV7vXn"
      },
      "outputs": [],
      "source": [
        "sns.regplot(data=df_ski, x='ElevationGain', y='Price', ci=None)"
      ]
    },
    {
      "cell_type": "markdown",
      "metadata": {
        "id": "dAMkkAf4b4-f"
      },
      "source": [
        "## Exercise 3: Ski dataset, continued.\n",
        "\n",
        "1. Produce scatter plots for the pairs (AltitudeTop, Price) and (Slopes, Price). Which relationships look linear?\n",
        "\n",
        "2. Are these figures easy to read? How to solve this issue?"
      ]
    },
    {
      "cell_type": "markdown",
      "metadata": {
        "id": "ItNy2O4H-O-o"
      },
      "source": [
        "<font color='red'>Here stops the mandatory part. The rest is optional, depending on the pace of the class.</font>"
      ]
    },
    {
      "cell_type": "markdown",
      "metadata": {
        "id": "a-6rXE-1clTx"
      },
      "source": [
        "The last two figures clearly have a problem with *outliers*: one ski station has a number of slopes over 200, whereas the vast majority of the rest of the stations has less than 150 stations. This makes these figures hard to read. We will see in the next class how to solve this issue by dropping the right-most data point. For now, generative AI provides such a solution"
      ]
    },
    {
      "cell_type": "code",
      "execution_count": null,
      "metadata": {
        "id": "qeVCLbAg9X1_"
      },
      "outputs": [],
      "source": [
        "# prompt: scatterplot price by slopes and drop extremal point\n",
        "sns.scatterplot(data=df_ski[df_ski['Slopes']<200], x='Slopes', y='Price')"
      ]
    },
    {
      "cell_type": "markdown",
      "metadata": {
        "id": "MmGibicXqt_-"
      },
      "source": [
        "But it still does not look linear! Try with a log:"
      ]
    },
    {
      "cell_type": "code",
      "execution_count": null,
      "metadata": {
        "id": "e7cQvEPF96-S"
      },
      "outputs": [],
      "source": [
        "import numpy as np"
      ]
    },
    {
      "cell_type": "code",
      "execution_count": null,
      "metadata": {
        "id": "DAGI_7Sw9148"
      },
      "outputs": [],
      "source": [
        "df_ski['LnSlopes'] = np.log(df_ski['Slopes'])\n",
        "df_ski"
      ]
    },
    {
      "cell_type": "code",
      "execution_count": null,
      "metadata": {
        "id": "JaoBLWUX-DGX"
      },
      "outputs": [],
      "source": [
        "sns.regplot(data=df_ski[df_ski['Slopes']<200], x='LnSlopes', y='Price', ci=None)"
      ]
    },
    {
      "cell_type": "markdown",
      "metadata": {
        "id": "-JGCm3SikKKC"
      },
      "source": [
        "# Wrap-up/summary of main commands"
      ]
    },
    {
      "cell_type": "markdown",
      "metadata": {
        "id": "k2V9gsLvkGAE"
      },
      "source": [
        "We learned how to:\n",
        "* import important Python packages like pandas and seaborn:\n",
        "\n",
        "`import pandas as pd`\n",
        "\n",
        "`import seaborn as sns`\n",
        "\n",
        "\n",
        "*   load a data set, print the first and last lines, and compute some descriptive statistics for its quantitative variables:\n",
        "\n",
        "`df = pd.read_csv(\"link\")`\n",
        "\n",
        "`df.describe()`\n",
        "*   select and create a variable (a column) in a data frame\n",
        "\n",
        "`df['variable_name']`\n",
        "\n",
        "`df['new_var'] = XXX`\n",
        "\n",
        "*   visualize a quantitative variable using seaborn syntax\n",
        "\n",
        "`sns.histplot(data = df['variable_name'],bins = 25)`\n",
        "`sns.boxplot(data = df['variable_name'])`\n",
        "\n",
        "\n",
        "* visualize two quantitative variables with scatter plots, similarly using seaborn syntax\n",
        "\n",
        "`sns.scatterplot(data = df, x = 'variable_1', y = 'variable_2')`"
      ]
    },
    {
      "cell_type": "markdown",
      "metadata": {
        "id": "rNdFyuUs7xqq"
      },
      "source": [
        "# Concluding Comments\n",
        "\n",
        "- We have focused on the seaborn library, to avoid overloading it with potentially confusing alternatives\n",
        "- Yet, Python offers many alternative ways of generating a given graph. Gemini will often generate plots using the pandas syntax. A typical example is given next.\n",
        "\n",
        "- TODO: **Homework 1** for next time (see link on Blackboard)"
      ]
    },
    {
      "cell_type": "code",
      "execution_count": null,
      "metadata": {
        "id": "WbuD4i9v8yyG"
      },
      "outputs": [],
      "source": [
        "# The pandas syntax\n",
        "df_movie['IMDb'].plot(kind = 'hist')"
      ]
    },
    {
      "cell_type": "markdown",
      "metadata": {
        "id": "7CYnbOloiaKu"
      },
      "source": [
        "# Optional readings\n",
        "\n",
        "* The Netflix prize:\n",
        "\n",
        "J. Bennett and S. Lanning, *The Netflix Prize*, 2007.\n",
        "\n",
        "https://www.cs.uic.edu/~liub/KDD-cup-2007/proceedings/The-Netflix-Prize-Bennett.pdf\n",
        "\n",
        "News article: *The Netflix Prize: How a $1 Million Contest Changed Binge-Watching Forever*, Thrillist, 2017.\n",
        "\n",
        "https://www.thrillist.com/entertainment/nation/the-netflix-prize\n",
        "\n",
        "Open access to the data: https://www.kaggle.com/datasets/netflix-inc/netflix-prize-data\n",
        "\n",
        "* Harvard Business Review, *Data Scientist: The Sexiest Job of the 21st Century*, October 2012\n",
        "\n",
        "https://hbr.org/2012/10/data-scientist-the-sexiest-job-of-the-21st-century\n",
        "\n",
        "* Harvard Business Review, *Is Data Scientist Still the Sexiest Job of the 21st Century?*, July 2022\n",
        "\n",
        "https://hbr.org/2022/07/is-data-scientist-still-the-sexiest-job-of-the-21st-century\n",
        "\n",
        "* Mickael Lewis, *Moneyball: The Art of Winning an Unfair Game*, W. W. Norton & Company Inc., 2003.\n",
        "\n",
        "* Cathy O'Neil, *Weapon of Math Destruction*, Crownbooks 2016.\n",
        "\n",
        "* In case you want to learn a bit more about Google Colab (but you don't have to), you may look at the welcome page https://colab.research.google.com/?hl=fr or https://colab.research.google.com/notebooks/basic_features_overview.ipynb\n",
        "\n",
        "\n",
        "\n",
        "\n"
      ]
    }
  ],
  "metadata": {
    "colab": {
      "include_colab_link": true,
      "provenance": []
    },
    "kernelspec": {
      "display_name": "data_science",
      "language": "python",
      "name": "python3"
    },
    "language_info": {
      "name": "python",
      "version": "3.13.3"
    }
  },
  "nbformat": 4,
  "nbformat_minor": 0
}
