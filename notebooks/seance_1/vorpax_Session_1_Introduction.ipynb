{
  "cells": [
    {
      "cell_type": "markdown",
      "metadata": {
        "id": "mAEqkABEVZXx"
      },
      "source": [
        "## Cours introductif à la data science\n",
        "\n",
        "\n",
        "----"
      ]
    },
    {
      "cell_type": "markdown",
      "metadata": {
        "id": "xpumCFA0Phi1"
      },
      "source": [
        "# How to use a notebook\n",
        "\n",
        "Two types of cells: code (to be executed) or text (for your notes)\n",
        "\n",
        "More types with JupyterLab"
      ]
    },
    {
      "cell_type": "code",
      "execution_count": 13,
      "metadata": {
        "id": "SmCac1cZPtvk"
      },
      "outputs": [
        {
          "name": "stdout",
          "output_type": "stream",
          "text": [
            "Hello world\n"
          ]
        },
        {
          "data": {
            "text/plain": [
              "4"
            ]
          },
          "execution_count": 13,
          "metadata": {},
          "output_type": "execute_result"
        }
      ],
      "source": [
        "# Comments here\n",
        "print('Hello world')\n",
        "1+3"
      ]
    },
    {
      "cell_type": "markdown",
      "metadata": {
        "id": "OSksHUO6P0qy"
      },
      "source": [
        "More comments may be put in a text cell such as this one.\n",
        "\n",
        "---\n",
        "\n",
        "\n",
        "\n",
        "---\n",
        "\n",
        "\n",
        "\n",
        "Some useful keyboard shortcuts: see the list with **Ctrl + M + H**\n",
        "\n",
        "&nbsp;\n",
        "\n",
        "Google Colab helps you to code:\n",
        "- Auto-completion via Tab key and/or lists of variables\n",
        "- Code may even be AI-generated --- we will provide examples in due time\n",
        "- AI assistant (Gemini) readily available -- both a blessing and a curse"
      ]
    },
    {
      "cell_type": "markdown",
      "metadata": {
        "id": "ttBI0kJXCOF0"
      },
      "source": [
        "# Part 1: Load, show, describe a data set\n",
        "\n",
        "Data set available at: https://www.dropbox.com/scl/fi/cafdvvkppxult940cf1zb/MoviesRatings1.csv?rlkey=pg4xagx00xspi832fakno0jla&dl=1\n",
        "\n",
        "Let's load the raw file with a text editor.\n",
        "Next, with Python:"
      ]
    },
    {
      "cell_type": "code",
      "execution_count": 14,
      "metadata": {
        "id": "ZfA9SPYQQ1Yy"
      },
      "outputs": [],
      "source": [
        "# The pandas library is a collection of Python tools for data analysis\n",
        "import pandas as pd\n",
        "\n",
        "# Function read_csv reads a CSV (comma-separated values) text file\n",
        "df_movie = pd.read_csv(\"https://www.dropbox.com/scl/fi/cafdvvkppxult940cf1zb/MoviesRatings1.csv?rlkey=pg4xagx00xspi832fakno0jla&dl=1\")"
      ]
    },
    {
      "cell_type": "code",
      "execution_count": 15,
      "metadata": {
        "id": "2Dtsju7BTJsT"
      },
      "outputs": [
        {
          "data": {
            "application/vnd.microsoft.datawrangler.viewer.v0+json": {
              "columns": [
                {
                  "name": "index",
                  "rawType": "int64",
                  "type": "integer"
                },
                {
                  "name": "Title",
                  "rawType": "object",
                  "type": "string"
                },
                {
                  "name": "Year",
                  "rawType": "int64",
                  "type": "integer"
                },
                {
                  "name": "IMDb",
                  "rawType": "float64",
                  "type": "float"
                },
                {
                  "name": "Rotten.Tomatoes",
                  "rawType": "float64",
                  "type": "float"
                },
                {
                  "name": "Runtime",
                  "rawType": "float64",
                  "type": "float"
                }
              ],
              "ref": "f9b0a191-0d65-4ce5-acfc-8784d2d2b850",
              "rows": [
                [
                  "0",
                  "Inception",
                  "2010",
                  "8.8",
                  "0.87",
                  "148.0"
                ],
                [
                  "1",
                  "The Matrix",
                  "1999",
                  "8.7",
                  "0.87",
                  "136.0"
                ],
                [
                  "2",
                  "Avengers: Infinity War",
                  "2018",
                  "8.5",
                  "0.84",
                  "149.0"
                ],
                [
                  "3",
                  "Back to the Future",
                  "1985",
                  "8.5",
                  "0.96",
                  "116.0"
                ],
                [
                  "4",
                  "The Good, the Bad and the Ugly",
                  "1966",
                  "8.8",
                  "0.97",
                  "161.0"
                ],
                [
                  "5",
                  "Spider-Man: Into the Spider-Verse",
                  "2018",
                  "8.4",
                  "0.97",
                  "117.0"
                ],
                [
                  "6",
                  "The Pianist",
                  "2002",
                  "8.5",
                  "0.95",
                  "150.0"
                ],
                [
                  "7",
                  "Django Unchained",
                  "2012",
                  "8.4",
                  "0.87",
                  "165.0"
                ],
                [
                  "8",
                  "Raiders of the Lost Ark",
                  "1981",
                  "8.4",
                  "0.95",
                  "115.0"
                ],
                [
                  "9",
                  "Inglourious Basterds",
                  "2009",
                  "8.3",
                  "0.89",
                  "153.0"
                ],
                [
                  "10",
                  "Taxi Driver",
                  "1976",
                  "8.3",
                  "0.95",
                  "114.0"
                ],
                [
                  "11",
                  "3 Idiots",
                  "2009",
                  "8.4",
                  "1.0",
                  "170.0"
                ],
                [
                  "12",
                  "Pan's Labyrinth",
                  "2006",
                  "8.2",
                  "0.95",
                  "118.0"
                ],
                [
                  "13",
                  "Room",
                  "2015",
                  "8.1",
                  "0.93",
                  "118.0"
                ],
                [
                  "14",
                  "Monty Python and the Holy Grail",
                  "1975",
                  "8.2",
                  "0.97",
                  "91.0"
                ],
                [
                  "15",
                  "Once Upon a Time in the West",
                  "1968",
                  "8.5",
                  "0.95",
                  "165.0"
                ],
                [
                  "16",
                  "Indiana Jones and the Last Crusade",
                  "1989",
                  "8.2",
                  "0.88",
                  "127.0"
                ],
                [
                  "17",
                  "Groundhog Day",
                  "1993",
                  "8.0",
                  "0.96",
                  "101.0"
                ],
                [
                  "18",
                  "The King's Speech",
                  "2010",
                  "8.0",
                  "0.95",
                  "118.0"
                ],
                [
                  "19",
                  "Her",
                  "2013",
                  "8.0",
                  "0.95",
                  "126.0"
                ],
                [
                  "20",
                  "There Will Be Blood",
                  "2007",
                  "8.2",
                  "0.91",
                  "158.0"
                ],
                [
                  "21",
                  "The Social Network",
                  "2010",
                  "7.7",
                  "0.96",
                  "120.0"
                ],
                [
                  "22",
                  "Dallas Buyers Club",
                  "2013",
                  "8.0",
                  "0.93",
                  "117.0"
                ],
                [
                  "23",
                  "The Perks of Being a Wallflower",
                  "2012",
                  "8.0",
                  "0.86",
                  "103.0"
                ],
                [
                  "24",
                  "Life of Brian",
                  "1979",
                  "8.1",
                  "0.95",
                  "94.0"
                ],
                [
                  "25",
                  "Ex Machina",
                  "2015",
                  "7.7",
                  "0.92",
                  "108.0"
                ],
                [
                  "26",
                  "Silver Linings Playbook",
                  "2012",
                  "7.7",
                  "0.92",
                  "122.0"
                ],
                [
                  "27",
                  "District 9",
                  "2009",
                  "7.9",
                  "0.9",
                  "112.0"
                ],
                [
                  "28",
                  "The Irishman",
                  "2019",
                  "7.9",
                  "0.96",
                  "209.0"
                ],
                [
                  "29",
                  "Moon",
                  "2009",
                  "7.9",
                  "0.9",
                  "97.0"
                ],
                [
                  "30",
                  "Marriage Story",
                  "2019",
                  "8.0",
                  "0.95",
                  "137.0"
                ],
                [
                  "31",
                  "Drive",
                  "2011",
                  "7.8",
                  "0.92",
                  "100.0"
                ],
                [
                  "32",
                  "Train to Busan",
                  "2016",
                  "7.5",
                  "0.94",
                  "118.0"
                ],
                [
                  "33",
                  "Incredibles 2",
                  "2018",
                  "7.6",
                  "0.94",
                  "118.0"
                ],
                [
                  "34",
                  "Dangal",
                  "2016",
                  "8.4",
                  "0.88",
                  "161.0"
                ],
                [
                  "35",
                  "Klaus",
                  "2019",
                  "8.2",
                  "0.94",
                  "96.0"
                ],
                [
                  "36",
                  "Minority Report",
                  "2002",
                  "7.6",
                  "0.9",
                  "145.0"
                ],
                [
                  "37",
                  "Mystic River",
                  "2003",
                  "7.9",
                  "0.88",
                  "138.0"
                ],
                [
                  "38",
                  "Like Stars on Earth",
                  "2007",
                  "8.4",
                  "0.91",
                  "165.0"
                ],
                [
                  "39",
                  "Ferris Bueller's Day Off",
                  "1986",
                  "7.8",
                  "0.8",
                  "103.0"
                ],
                [
                  "40",
                  "Despicable Me",
                  "2010",
                  "7.6",
                  "0.81",
                  "95.0"
                ],
                [
                  "41",
                  "Hell or High Water",
                  "2016",
                  "7.6",
                  "0.97",
                  "102.0"
                ],
                [
                  "42",
                  "Sin City",
                  "2005",
                  "8.0",
                  "0.77",
                  "124.0"
                ],
                [
                  "43",
                  "Ip Man",
                  "2008",
                  "8.0",
                  "0.85",
                  "106.0"
                ],
                [
                  "44",
                  "Indiana Jones and the Temple of Doom",
                  "1984",
                  "7.6",
                  "0.85",
                  "118.0"
                ],
                [
                  "45",
                  "The Theory of Everything",
                  "2014",
                  "7.7",
                  "0.79",
                  "123.0"
                ],
                [
                  "46",
                  "The Pursuit of Happyness",
                  "2006",
                  "8.0",
                  "0.67",
                  "117.0"
                ],
                [
                  "47",
                  "Senna",
                  "2010",
                  "8.5",
                  "0.93",
                  "106.0"
                ],
                [
                  "48",
                  "Scott Pilgrim vs. the World",
                  "2010",
                  "7.5",
                  "0.81",
                  "112.0"
                ],
                [
                  "49",
                  "Magnolia",
                  "1999",
                  "8.0",
                  "0.83",
                  "188.0"
                ]
              ],
              "shape": {
                "columns": 5,
                "rows": 5156
              }
            },
            "text/html": [
              "<div>\n",
              "<style scoped>\n",
              "    .dataframe tbody tr th:only-of-type {\n",
              "        vertical-align: middle;\n",
              "    }\n",
              "\n",
              "    .dataframe tbody tr th {\n",
              "        vertical-align: top;\n",
              "    }\n",
              "\n",
              "    .dataframe thead th {\n",
              "        text-align: right;\n",
              "    }\n",
              "</style>\n",
              "<table border=\"1\" class=\"dataframe\">\n",
              "  <thead>\n",
              "    <tr style=\"text-align: right;\">\n",
              "      <th></th>\n",
              "      <th>Title</th>\n",
              "      <th>Year</th>\n",
              "      <th>IMDb</th>\n",
              "      <th>Rotten.Tomatoes</th>\n",
              "      <th>Runtime</th>\n",
              "    </tr>\n",
              "  </thead>\n",
              "  <tbody>\n",
              "    <tr>\n",
              "      <th>0</th>\n",
              "      <td>Inception</td>\n",
              "      <td>2010</td>\n",
              "      <td>8.8</td>\n",
              "      <td>0.87</td>\n",
              "      <td>148.0</td>\n",
              "    </tr>\n",
              "    <tr>\n",
              "      <th>1</th>\n",
              "      <td>The Matrix</td>\n",
              "      <td>1999</td>\n",
              "      <td>8.7</td>\n",
              "      <td>0.87</td>\n",
              "      <td>136.0</td>\n",
              "    </tr>\n",
              "    <tr>\n",
              "      <th>2</th>\n",
              "      <td>Avengers: Infinity War</td>\n",
              "      <td>2018</td>\n",
              "      <td>8.5</td>\n",
              "      <td>0.84</td>\n",
              "      <td>149.0</td>\n",
              "    </tr>\n",
              "    <tr>\n",
              "      <th>3</th>\n",
              "      <td>Back to the Future</td>\n",
              "      <td>1985</td>\n",
              "      <td>8.5</td>\n",
              "      <td>0.96</td>\n",
              "      <td>116.0</td>\n",
              "    </tr>\n",
              "    <tr>\n",
              "      <th>4</th>\n",
              "      <td>The Good, the Bad and the Ugly</td>\n",
              "      <td>1966</td>\n",
              "      <td>8.8</td>\n",
              "      <td>0.97</td>\n",
              "      <td>161.0</td>\n",
              "    </tr>\n",
              "    <tr>\n",
              "      <th>...</th>\n",
              "      <td>...</td>\n",
              "      <td>...</td>\n",
              "      <td>...</td>\n",
              "      <td>...</td>\n",
              "      <td>...</td>\n",
              "    </tr>\n",
              "    <tr>\n",
              "      <th>5151</th>\n",
              "      <td>George of the Jungle 2</td>\n",
              "      <td>2003</td>\n",
              "      <td>3.3</td>\n",
              "      <td>0.17</td>\n",
              "      <td>87.0</td>\n",
              "    </tr>\n",
              "    <tr>\n",
              "      <th>5152</th>\n",
              "      <td>That Darn Cat</td>\n",
              "      <td>1997</td>\n",
              "      <td>4.7</td>\n",
              "      <td>0.13</td>\n",
              "      <td>116.0</td>\n",
              "    </tr>\n",
              "    <tr>\n",
              "      <th>5153</th>\n",
              "      <td>Kazaam</td>\n",
              "      <td>1996</td>\n",
              "      <td>3.0</td>\n",
              "      <td>0.06</td>\n",
              "      <td>93.0</td>\n",
              "    </tr>\n",
              "    <tr>\n",
              "      <th>5154</th>\n",
              "      <td>Meet the Deedles</td>\n",
              "      <td>1998</td>\n",
              "      <td>4.1</td>\n",
              "      <td>0.07</td>\n",
              "      <td>93.0</td>\n",
              "    </tr>\n",
              "    <tr>\n",
              "      <th>5155</th>\n",
              "      <td>Pocahontas</td>\n",
              "      <td>1995</td>\n",
              "      <td>5.3</td>\n",
              "      <td>0.55</td>\n",
              "      <td>81.0</td>\n",
              "    </tr>\n",
              "  </tbody>\n",
              "</table>\n",
              "<p>5156 rows × 5 columns</p>\n",
              "</div>"
            ],
            "text/plain": [
              "                               Title  Year  IMDb  Rotten.Tomatoes  Runtime\n",
              "0                          Inception  2010   8.8             0.87    148.0\n",
              "1                         The Matrix  1999   8.7             0.87    136.0\n",
              "2             Avengers: Infinity War  2018   8.5             0.84    149.0\n",
              "3                 Back to the Future  1985   8.5             0.96    116.0\n",
              "4     The Good, the Bad and the Ugly  1966   8.8             0.97    161.0\n",
              "...                              ...   ...   ...              ...      ...\n",
              "5151          George of the Jungle 2  2003   3.3             0.17     87.0\n",
              "5152                   That Darn Cat  1997   4.7             0.13    116.0\n",
              "5153                          Kazaam  1996   3.0             0.06     93.0\n",
              "5154                Meet the Deedles  1998   4.1             0.07     93.0\n",
              "5155                      Pocahontas  1995   5.3             0.55     81.0\n",
              "\n",
              "[5156 rows x 5 columns]"
            ]
          },
          "execution_count": 15,
          "metadata": {},
          "output_type": "execute_result"
        }
      ],
      "source": [
        "# Display an excerpt of the data set, as a dataframe\n",
        "df_movie"
      ]
    },
    {
      "cell_type": "markdown",
      "metadata": {
        "id": "MPn6Km30S4nE"
      },
      "source": [
        "<font color='blue'>Questions:\n",
        "* How many movies does the data set contain?\n",
        "* What do we see? (Which variables, what ranges, units, etc.?)\n",
        "</font>"
      ]
    },
    {
      "cell_type": "markdown",
      "metadata": {
        "id": "1SNf8krST6zq"
      },
      "source": [
        "### Concepts of variable, observations, and values"
      ]
    },
    {
      "cell_type": "markdown",
      "metadata": {
        "id": "pBDoj5zbAWeU"
      },
      "source": [
        "![](https://d33wubrfki0l68.cloudfront.net/6f1ddb544fc5c69a2478e444ab8112fb0eea23f8/91adc/images/tidy-1.png)\n"
      ]
    },
    {
      "cell_type": "markdown",
      "metadata": {
        "id": "cqJdLLkmklX6"
      },
      "source": [
        "Note: variable (in statistics) = feature (in machine learning), choose your preferred word!"
      ]
    },
    {
      "cell_type": "markdown",
      "metadata": {
        "id": "Naf98MWBXBbL"
      },
      "source": [
        "**Description of the movie data**\n",
        "\n",
        "In the US, there are two main websites/applications for rating movies: IMDb (https://www.imdb.com/) and Rotten Tomatoes (https://www.rottentomatoes.com/about). The French equivalent is Allociné.\n",
        "\n",
        "Variables:\n",
        "- Title (of the movie)\n",
        "- Year (of first release)\n",
        "- IMDb (= average rating, on a 1-10 scale, by IMDb users)\n",
        "- Rotten.Tomatoes (= share of positive evaluations among evaluations of this movie by professional critics, aka 'Tomatometer')\n",
        "- Runtime (of the movie, in minutes)\n",
        "\n",
        "The target variables are IMDb and Rotten.Tomatoes. We may want to relate them, for instance."
      ]
    },
    {
      "cell_type": "markdown",
      "metadata": {
        "id": "e1R9zkj_UiWy"
      },
      "source": [
        "### Describe / summarize data"
      ]
    },
    {
      "cell_type": "code",
      "execution_count": 16,
      "metadata": {
        "id": "APf6HHwAVlok"
      },
      "outputs": [],
      "source": [
        "# df_movie is an object with type dataframe\n",
        "# Such objects enjoy a method 'describe()'\n",
        "\n"
      ]
    },
    {
      "cell_type": "markdown",
      "metadata": {
        "id": "xftDdPHvVRzv"
      },
      "source": [
        "<font color='blue'>Question: do IMDb and Rotten.Tomatoes ratings seem consistent?</font>"
      ]
    },
    {
      "cell_type": "markdown",
      "metadata": {
        "id": "oB_CXdDYZYAa"
      },
      "source": [
        "## Exercise 1: Ski data set\n",
        "\n",
        "We consider some French ski resorts and report the following variables for each of them:\n",
        "- **Station**: the name of the resort\n",
        "- **Price**: the price of a weekly ski pass\n",
        "- **Mountain**: the mountain area where it is located\n",
        "- **AltitudeDown**: the altitude of the village\n",
        "- **AltitudeTop**: the altitude of the top of the resort\n",
        "- **Slopes**: the number of slopes\n",
        "- **Lifts**: the number of lifts\n",
        "\n",
        "The data set is accessible through this link: https://www.dropbox.com/scl/fi/pgfw6h0x9pxbr7c01jg6k/SkiData-FRG.csv?rlkey=yupn270yn4s4xnigoeasv084e&dl=1\n",
        "\n",
        "&nbsp;\n",
        "\n",
        "Questions\n",
        "1. Load the data set: how many resorts are considered?\n",
        "2. Provide descriptive statistics on the variables:\n",
        "    - What is the median top altitude?\n",
        "    - What variables are missing in the table with descriptive statistics, and why?\n",
        "    - Provide any other interesting comment."
      ]
    },
    {
      "cell_type": "code",
      "execution_count": 17,
      "metadata": {},
      "outputs": [
        {
          "data": {
            "application/vnd.microsoft.datawrangler.viewer.v0+json": {
              "columns": [
                {
                  "name": "index",
                  "rawType": "object",
                  "type": "string"
                },
                {
                  "name": "Price",
                  "rawType": "float64",
                  "type": "float"
                },
                {
                  "name": "AltitudeDown",
                  "rawType": "float64",
                  "type": "float"
                },
                {
                  "name": "AltitudeTop",
                  "rawType": "float64",
                  "type": "float"
                },
                {
                  "name": "Slopes",
                  "rawType": "float64",
                  "type": "float"
                },
                {
                  "name": "Lifts",
                  "rawType": "float64",
                  "type": "float"
                }
              ],
              "ref": "8ec929d5-8420-485a-8171-081a0732b842",
              "rows": [
                [
                  "count",
                  "204.0",
                  "204.0",
                  "204.0",
                  "204.0",
                  "204.0"
                ],
                [
                  "mean",
                  "151.4313725490196",
                  "1316.3921568627452",
                  "2159.5343137254904",
                  "37.78921568627451",
                  "18.612745098039216"
                ],
                [
                  "std",
                  "60.590608744735086",
                  "292.9909347061024",
                  "583.3234016692581",
                  "34.74693425003004",
                  "18.007990408029713"
                ],
                [
                  "min",
                  "40.0",
                  "600.0",
                  "970.0",
                  "1.0",
                  "1.0"
                ],
                [
                  "25%",
                  "101.5",
                  "1100.0",
                  "1708.5",
                  "14.0",
                  "7.0"
                ],
                [
                  "50%",
                  "150.0",
                  "1350.0",
                  "2100.0",
                  "27.5",
                  "12.0"
                ],
                [
                  "75%",
                  "192.0",
                  "1500.0",
                  "2550.0",
                  "49.25",
                  "23.0"
                ],
                [
                  "max",
                  "285.0",
                  "2300.0",
                  "3600.0",
                  "235.0",
                  "108.0"
                ]
              ],
              "shape": {
                "columns": 5,
                "rows": 8
              }
            },
            "text/html": [
              "<div>\n",
              "<style scoped>\n",
              "    .dataframe tbody tr th:only-of-type {\n",
              "        vertical-align: middle;\n",
              "    }\n",
              "\n",
              "    .dataframe tbody tr th {\n",
              "        vertical-align: top;\n",
              "    }\n",
              "\n",
              "    .dataframe thead th {\n",
              "        text-align: right;\n",
              "    }\n",
              "</style>\n",
              "<table border=\"1\" class=\"dataframe\">\n",
              "  <thead>\n",
              "    <tr style=\"text-align: right;\">\n",
              "      <th></th>\n",
              "      <th>Price</th>\n",
              "      <th>AltitudeDown</th>\n",
              "      <th>AltitudeTop</th>\n",
              "      <th>Slopes</th>\n",
              "      <th>Lifts</th>\n",
              "    </tr>\n",
              "  </thead>\n",
              "  <tbody>\n",
              "    <tr>\n",
              "      <th>count</th>\n",
              "      <td>204.000000</td>\n",
              "      <td>204.000000</td>\n",
              "      <td>204.000000</td>\n",
              "      <td>204.000000</td>\n",
              "      <td>204.000000</td>\n",
              "    </tr>\n",
              "    <tr>\n",
              "      <th>mean</th>\n",
              "      <td>151.431373</td>\n",
              "      <td>1316.392157</td>\n",
              "      <td>2159.534314</td>\n",
              "      <td>37.789216</td>\n",
              "      <td>18.612745</td>\n",
              "    </tr>\n",
              "    <tr>\n",
              "      <th>std</th>\n",
              "      <td>60.590609</td>\n",
              "      <td>292.990935</td>\n",
              "      <td>583.323402</td>\n",
              "      <td>34.746934</td>\n",
              "      <td>18.007990</td>\n",
              "    </tr>\n",
              "    <tr>\n",
              "      <th>min</th>\n",
              "      <td>40.000000</td>\n",
              "      <td>600.000000</td>\n",
              "      <td>970.000000</td>\n",
              "      <td>1.000000</td>\n",
              "      <td>1.000000</td>\n",
              "    </tr>\n",
              "    <tr>\n",
              "      <th>25%</th>\n",
              "      <td>101.500000</td>\n",
              "      <td>1100.000000</td>\n",
              "      <td>1708.500000</td>\n",
              "      <td>14.000000</td>\n",
              "      <td>7.000000</td>\n",
              "    </tr>\n",
              "    <tr>\n",
              "      <th>50%</th>\n",
              "      <td>150.000000</td>\n",
              "      <td>1350.000000</td>\n",
              "      <td>2100.000000</td>\n",
              "      <td>27.500000</td>\n",
              "      <td>12.000000</td>\n",
              "    </tr>\n",
              "    <tr>\n",
              "      <th>75%</th>\n",
              "      <td>192.000000</td>\n",
              "      <td>1500.000000</td>\n",
              "      <td>2550.000000</td>\n",
              "      <td>49.250000</td>\n",
              "      <td>23.000000</td>\n",
              "    </tr>\n",
              "    <tr>\n",
              "      <th>max</th>\n",
              "      <td>285.000000</td>\n",
              "      <td>2300.000000</td>\n",
              "      <td>3600.000000</td>\n",
              "      <td>235.000000</td>\n",
              "      <td>108.000000</td>\n",
              "    </tr>\n",
              "  </tbody>\n",
              "</table>\n",
              "</div>"
            ],
            "text/plain": [
              "            Price  AltitudeDown  AltitudeTop      Slopes       Lifts\n",
              "count  204.000000    204.000000   204.000000  204.000000  204.000000\n",
              "mean   151.431373   1316.392157  2159.534314   37.789216   18.612745\n",
              "std     60.590609    292.990935   583.323402   34.746934   18.007990\n",
              "min     40.000000    600.000000   970.000000    1.000000    1.000000\n",
              "25%    101.500000   1100.000000  1708.500000   14.000000    7.000000\n",
              "50%    150.000000   1350.000000  2100.000000   27.500000   12.000000\n",
              "75%    192.000000   1500.000000  2550.000000   49.250000   23.000000\n",
              "max    285.000000   2300.000000  3600.000000  235.000000  108.000000"
            ]
          },
          "execution_count": 17,
          "metadata": {},
          "output_type": "execute_result"
        }
      ],
      "source": [
        "data = pd.read_csv(\"./sample_data/SkiData-FRG.csv\")\n",
        "data.describe()\n",
        "\n"
      ]
    },
    {
      "cell_type": "markdown",
      "metadata": {
        "id": "mUSjomLJXOI4"
      },
      "source": [
        "# Part 2: Selecting, visualizing, creating a quantitative variable with *seaborn*"
      ]
    },
    {
      "cell_type": "markdown",
      "metadata": {
        "id": "DfPQkm0e2gBy"
      },
      "source": [
        "We go back to the movie data.\n",
        "\n",
        "We want to explore more the average ratings  on the one hand (for both IMDb and Rottent Tomatoes), and the runtimes, on the other hand."
      ]
    },
    {
      "cell_type": "code",
      "execution_count": 18,
      "metadata": {
        "id": "J8BtZGiKVIoO"
      },
      "outputs": [
        {
          "data": {
            "application/vnd.microsoft.datawrangler.viewer.v0+json": {
              "columns": [
                {
                  "name": "index",
                  "rawType": "int64",
                  "type": "integer"
                },
                {
                  "name": "IMDb",
                  "rawType": "float64",
                  "type": "float"
                }
              ],
              "ref": "f1c37f0d-e9d6-41ee-aee1-37be591ed417",
              "rows": [
                [
                  "0",
                  "8.8"
                ],
                [
                  "1",
                  "8.7"
                ],
                [
                  "2",
                  "8.5"
                ],
                [
                  "3",
                  "8.5"
                ],
                [
                  "4",
                  "8.8"
                ],
                [
                  "5",
                  "8.4"
                ],
                [
                  "6",
                  "8.5"
                ],
                [
                  "7",
                  "8.4"
                ],
                [
                  "8",
                  "8.4"
                ],
                [
                  "9",
                  "8.3"
                ],
                [
                  "10",
                  "8.3"
                ],
                [
                  "11",
                  "8.4"
                ],
                [
                  "12",
                  "8.2"
                ],
                [
                  "13",
                  "8.1"
                ],
                [
                  "14",
                  "8.2"
                ],
                [
                  "15",
                  "8.5"
                ],
                [
                  "16",
                  "8.2"
                ],
                [
                  "17",
                  "8.0"
                ],
                [
                  "18",
                  "8.0"
                ],
                [
                  "19",
                  "8.0"
                ],
                [
                  "20",
                  "8.2"
                ],
                [
                  "21",
                  "7.7"
                ],
                [
                  "22",
                  "8.0"
                ],
                [
                  "23",
                  "8.0"
                ],
                [
                  "24",
                  "8.1"
                ],
                [
                  "25",
                  "7.7"
                ],
                [
                  "26",
                  "7.7"
                ],
                [
                  "27",
                  "7.9"
                ],
                [
                  "28",
                  "7.9"
                ],
                [
                  "29",
                  "7.9"
                ],
                [
                  "30",
                  "8.0"
                ],
                [
                  "31",
                  "7.8"
                ],
                [
                  "32",
                  "7.5"
                ],
                [
                  "33",
                  "7.6"
                ],
                [
                  "34",
                  "8.4"
                ],
                [
                  "35",
                  "8.2"
                ],
                [
                  "36",
                  "7.6"
                ],
                [
                  "37",
                  "7.9"
                ],
                [
                  "38",
                  "8.4"
                ],
                [
                  "39",
                  "7.8"
                ],
                [
                  "40",
                  "7.6"
                ],
                [
                  "41",
                  "7.6"
                ],
                [
                  "42",
                  "8.0"
                ],
                [
                  "43",
                  "8.0"
                ],
                [
                  "44",
                  "7.6"
                ],
                [
                  "45",
                  "7.7"
                ],
                [
                  "46",
                  "8.0"
                ],
                [
                  "47",
                  "8.5"
                ],
                [
                  "48",
                  "7.5"
                ],
                [
                  "49",
                  "8.0"
                ]
              ],
              "shape": {
                "columns": 1,
                "rows": 5156
              }
            },
            "text/plain": [
              "0       8.8\n",
              "1       8.7\n",
              "2       8.5\n",
              "3       8.5\n",
              "4       8.8\n",
              "       ... \n",
              "5151    3.3\n",
              "5152    4.7\n",
              "5153    3.0\n",
              "5154    4.1\n",
              "5155    5.3\n",
              "Name: IMDb, Length: 5156, dtype: float64"
            ]
          },
          "execution_count": 18,
          "metadata": {},
          "output_type": "execute_result"
        }
      ],
      "source": [
        "# Extracting one variable: using brackets\n",
        "df_movie['IMDb']"
      ]
    },
    {
      "cell_type": "markdown",
      "metadata": {
        "id": "HVp5gYAXZP1i"
      },
      "source": [
        "At this stage, it is time to remind you about auto-completion:\n",
        "- Press Tab to complete text being typed\n",
        "- Press tab to complete a lists of variables (generated depending on the context)"
      ]
    },
    {
      "cell_type": "code",
      "execution_count": 19,
      "metadata": {
        "id": "MzCR_l9tXfRZ"
      },
      "outputs": [
        {
          "data": {
            "application/vnd.microsoft.datawrangler.viewer.v0+json": {
              "columns": [
                {
                  "name": "index",
                  "rawType": "object",
                  "type": "string"
                },
                {
                  "name": "IMDb",
                  "rawType": "float64",
                  "type": "float"
                }
              ],
              "ref": "e297dd29-40d3-4b70-a40e-3e165d8679cf",
              "rows": [
                [
                  "count",
                  "5156.0"
                ],
                [
                  "mean",
                  "6.37523273855702"
                ],
                [
                  "std",
                  "1.0024167905910795"
                ],
                [
                  "min",
                  "1.6"
                ],
                [
                  "25%",
                  "5.7"
                ],
                [
                  "50%",
                  "6.5"
                ],
                [
                  "75%",
                  "7.1"
                ],
                [
                  "max",
                  "9.0"
                ]
              ],
              "shape": {
                "columns": 1,
                "rows": 8
              }
            },
            "text/plain": [
              "count    5156.000000\n",
              "mean        6.375233\n",
              "std         1.002417\n",
              "min         1.600000\n",
              "25%         5.700000\n",
              "50%         6.500000\n",
              "75%         7.100000\n",
              "max         9.000000\n",
              "Name: IMDb, dtype: float64"
            ]
          },
          "execution_count": 19,
          "metadata": {},
          "output_type": "execute_result"
        }
      ],
      "source": [
        "# df_movie['IMDb'] is an object of type 'series' (i.e., a sort of one-dimensional data frame)\n",
        "# It can also be manipulated as such, e.g.:\n",
        "df_movie['IMDb'].describe()"
      ]
    },
    {
      "cell_type": "markdown",
      "metadata": {
        "id": "Wuj3byN7GqYM"
      },
      "source": [
        "To provide graphical representation of quantitative variables, we will use the *seaborn* library"
      ]
    },
    {
      "cell_type": "code",
      "execution_count": 20,
      "metadata": {
        "id": "jk8HSl1AF5Ee"
      },
      "outputs": [],
      "source": [
        "import seaborn as sns"
      ]
    },
    {
      "cell_type": "markdown",
      "metadata": {
        "id": "w1e2hKvFFyY0"
      },
      "source": [
        "### Visualizing a quantitative variable via histograms"
      ]
    },
    {
      "cell_type": "code",
      "execution_count": 21,
      "metadata": {
        "id": "fpJ6r1NOF5Ef"
      },
      "outputs": [
        {
          "data": {
            "text/plain": [
              "<Axes: xlabel='IMDb', ylabel='Count'>"
            ]
          },
          "execution_count": 21,
          "metadata": {},
          "output_type": "execute_result"
        },
        {
          "data": {
            "image/png": "[encoded data removed]",
            "text/plain": [
              "<Figure size 640x480 with 1 Axes>"
            ]
          },
          "metadata": {},
          "output_type": "display_data"
        }
      ],
      "source": [
        "sns.histplot(data=df_movie, x = 'IMDb')\n",
        "\n",
        "# Or equivalently,  sns.histplot(data=df_movie['IMDb'], x = 'IMDb')\n",
        "# Or                sns.histplot(x= df_movie['IMDb'])"
      ]
    },
    {
      "cell_type": "code",
      "execution_count": 22,
      "metadata": {
        "id": "yOSDjUfhF5Ef"
      },
      "outputs": [
        {
          "data": {
            "text/plain": [
              "<Axes: xlabel='IMDb', ylabel='Probability'>"
            ]
          },
          "execution_count": 22,
          "metadata": {},
          "output_type": "execute_result"
        },
        {
          "data": {
            "image/png": "[encoded data removed]",
            "text/plain": [
              "<Figure size 640x480 with 1 Axes>"
            ]
          },
          "metadata": {},
          "output_type": "display_data"
        }
      ],
      "source": [
        "# To show probabilities and set the number of bins:\n",
        "sns.histplot(data=df_movie['IMDb'], bins=25, stat='probability') # type: ignore"
      ]
    },
    {
      "cell_type": "code",
      "execution_count": 23,
      "metadata": {
        "id": "Lm9ecUhoF5Ef"
      },
      "outputs": [
        {
          "data": {
            "text/plain": [
              "<Axes: xlabel='Rotten.Tomatoes', ylabel='Probability'>"
            ]
          },
          "execution_count": 23,
          "metadata": {},
          "output_type": "execute_result"
        },
        {
          "data": {
            "image/png": "[encoded data removed]",
            "text/plain": [
              "<Figure size 640x480 with 1 Axes>"
            ]
          },
          "metadata": {},
          "output_type": "display_data"
        }
      ],
      "source": [
        "# Same for Rotten.Tomatoes:\n",
        "sns.histplot(data=df_movie['Rotten.Tomatoes'], bins=25, stat='probability') # type: ignore"
      ]
    },
    {
      "cell_type": "markdown",
      "metadata": {
        "id": "cG26S1ZBiP7v"
      },
      "source": [
        "<font color='blue'>Give us your thoughts (once again, but with a fresh eye) about consistency...</font>\n",
        "\n",
        "Conclusion: you learn a lot by visualizing data (compared to mere numerical statistics)!"
      ]
    },
    {
      "cell_type": "markdown",
      "metadata": {
        "id": "7LS3BUsbfoCZ"
      },
      "source": [
        "### Visualizing a quantitative variable via boxplots"
      ]
    },
    {
      "cell_type": "markdown",
      "metadata": {
        "id": "xJ81QkM4f_FH"
      },
      "source": [
        "Boxplots provide information on the median and the quartiles of a variable:\n",
        "\n",
        "* The **median** is represented with a bar\n",
        "* 50 % of the observations are **in** the box\n",
        "* 25 % of the observations are **above** the box (above Q3 = 75th percentile)\n",
        "* 25 % of the observations are **below** the box (below Q1 = 25th percentile)\n",
        "* **Extreme values** (outliers) are above/below the whiskers"
      ]
    },
    {
      "cell_type": "markdown",
      "metadata": {
        "id": "F_nnN9fogFdJ"
      },
      "source": [
        "<img src=\"https://miro.medium.com/max/9000/1*2c21SkzJMf3frPXPAR_gZA.png\" alt=\"drawing\" width=\"600\"/>"
      ]
    },
    {
      "cell_type": "code",
      "execution_count": 24,
      "metadata": {
        "id": "CBfIwZd-L-Zk"
      },
      "outputs": [
        {
          "data": {
            "text/plain": [
              "<Axes: xlabel='IMDb'>"
            ]
          },
          "execution_count": 24,
          "metadata": {},
          "output_type": "execute_result"
        },
        {
          "data": {
            "image/png": "[encoded data removed]",
            "text/plain": [
              "<Figure size 640x480 with 1 Axes>"
            ]
          },
          "metadata": {},
          "output_type": "display_data"
        }
      ],
      "source": [
        "sns.boxplot(data = df_movie,x = 'IMDb')"
      ]
    },
    {
      "cell_type": "code",
      "execution_count": null,
      "metadata": {
        "id": "WNU0ynuqgSEC"
      },
      "outputs": [],
      "source": [
        "# Same, for Rotten.Tomatoes:\n",
        "sns.boxplot(data=df_movie, x= 'Rotten.Tomatoes')"
      ]
    },
    {
      "cell_type": "markdown",
      "metadata": {
        "id": "9Gx0CeGSHTcn"
      },
      "source": [
        "To make the comparison easier, show the ratings of IMDb and Rotten.Tomatoes next to each other:"
      ]
    },
    {
      "cell_type": "code",
      "execution_count": null,
      "metadata": {
        "id": "nzRvntKyHSSr"
      },
      "outputs": [],
      "source": [
        "# This selects only the required columns from the dataset df_movie:\n",
        "df_movie[['IMDb','Rotten.Tomatoes']]"
      ]
    },
    {
      "cell_type": "markdown",
      "metadata": {
        "id": "7QIHP2LVgfGT"
      },
      "source": [
        "To make the comparison easier, rescale ratings on IMDb and combine both plots in one:"
      ]
    },
    {
      "cell_type": "code",
      "execution_count": null,
      "metadata": {
        "id": "D_QoTyCqHcQn"
      },
      "outputs": [],
      "source": [
        "sns.boxplot(data=df_movie[['IMDb','Rotten.Tomatoes']])"
      ]
    },
    {
      "cell_type": "markdown",
      "metadata": {
        "id": "dUw9DwzaHdwp"
      },
      "source": [
        "There is a clear problem of *scaling*. We address it by rescaling the ratings for IMDb:"
      ]
    },
    {
      "cell_type": "code",
      "execution_count": null,
      "metadata": {
        "id": "uJKkAjNzhPGL"
      },
      "outputs": [],
      "source": [
        "# First we create a new variable for the rescaled ratings of IMDb:\n",
        "df_movie['IMDb_rescaled']=(df_movie['IMDb']-1)/9"
      ]
    },
    {
      "cell_type": "markdown",
      "metadata": {
        "id": "XVKnxvuRYdNm"
      },
      "source": [
        "We now plot the rating from IMDb (rescaled) and Rotten.Tomatoes on the same boxplot:"
      ]
    },
    {
      "cell_type": "code",
      "execution_count": null,
      "metadata": {
        "id": "SnW-IRFkZhJ4"
      },
      "outputs": [],
      "source": [
        "# On df_movie[['IMDb_rescaled','Rotten.Tomatoes']], we can use the same functions\n",
        "# as on the entire dataset. For instance:\n",
        "df_movie[['IMDb_rescaled','Rotten.Tomatoes']].describe()"
      ]
    },
    {
      "cell_type": "code",
      "execution_count": null,
      "metadata": {
        "id": "yOSCq3mRYpFj"
      },
      "outputs": [],
      "source": [
        "# We are now ready to create the new boxplot with both ratings:\n",
        "sns.boxplot(df_movie[['IMDb_rescaled','Rotten.Tomatoes']])"
      ]
    },
    {
      "cell_type": "markdown",
      "metadata": {
        "id": "8vuVFEIrhdyK"
      },
      "source": [
        "<font color='blue'>Based on the descriptive statistics and on the picture, can you comment again on the consistency of these two ratings?</font>"
      ]
    },
    {
      "cell_type": "markdown",
      "metadata": {
        "id": "Fl2qQ38Td1Bu"
      },
      "source": [
        "## Exercise 2: Ski data set, continued\n",
        "\n",
        "Define the elevation gain as the difference between altitudes at the top and at the village.\n",
        "- Analyze the elevation gain variable, both numerically and graphically.\n",
        "- Ask the AI tool from Google Colab (Gemini) which station has the smallest elevation gain.\n",
        "- Try to produce box plots and histograms of the elevation gain using boxplots (without Gemini)."
      ]
    },
    {
      "cell_type": "markdown",
      "metadata": {
        "id": "mHPzru5BbAmy"
      },
      "source": [
        "# Part 3: Visualizing a pair of quantitative variables"
      ]
    },
    {
      "cell_type": "code",
      "execution_count": 47,
      "metadata": {
        "id": "EdUCB2SZuCIV"
      },
      "outputs": [
        {
          "data": {
            "text/plain": [
              "<Axes: xlabel='ElevationGain', ylabel='Count'>"
            ]
          },
          "execution_count": 47,
          "metadata": {},
          "output_type": "execute_result"
        },
        {
          "data": {
            "image/png": "[encoded data removed]",
            "text/plain": [
              "<Figure size 640x480 with 1 Axes>"
            ]
          },
          "metadata": {},
          "output_type": "display_data"
        }
      ],
      "source": [
        "# Fresh restart\n",
        "import pandas as pd\n",
        "import seaborn as sns\n",
        "df_ski = pd.read_csv(\"https://www.dropbox.com/scl/fi/pgfw6h0x9pxbr7c01jg6k/SkiData-FRG.csv?rlkey=yupn270yn4s4xnigoeasv084e&dl=1\")\n",
        "df_ski['ElevationGain'] = df_ski['AltitudeTop'] - df_ski['AltitudeDown']\n",
        "\n",
        "sns.histplot(df_ski['ElevationGain'],  kde=True) # pyright: ignore[reportArgumentType]"
      ]
    },
    {
      "cell_type": "markdown",
      "metadata": {
        "id": "iNPGszVTbItZ"
      },
      "source": [
        "We now explore the relation between pairs of variables via a *scatter plot*.\n",
        "\n",
        "For instance, we can observe how the variable **ElevationGain** influences the **Price** as follows:"
      ]
    },
    {
      "cell_type": "code",
      "execution_count": 48,
      "metadata": {
        "id": "2avmiH9X7VhT"
      },
      "outputs": [
        {
          "data": {
            "text/plain": [
              "<Axes: xlabel='ElevationGain', ylabel='Price'>"
            ]
          },
          "execution_count": 48,
          "metadata": {},
          "output_type": "execute_result"
        },
        {
          "data": {
            "image/png": "[encoded data removed]",
            "text/plain": [
              "<Figure size 640x480 with 1 Axes>"
            ]
          },
          "metadata": {},
          "output_type": "display_data"
        }
      ],
      "source": [
        "# Syntax with seaborn: sns.scatterplot\n",
        "sns.scatterplot(data=df_ski, x='ElevationGain', y='Price')"
      ]
    },
    {
      "cell_type": "markdown",
      "metadata": {
        "id": "s3IU8oNt7pWE"
      },
      "source": [
        "It looks reasonably linear! Let's draw the regression plot:"
      ]
    },
    {
      "cell_type": "code",
      "execution_count": 49,
      "metadata": {
        "id": "0O6QflnV7vXn"
      },
      "outputs": [
        {
          "data": {
            "text/plain": [
              "<Axes: xlabel='ElevationGain', ylabel='Price'>"
            ]
          },
          "execution_count": 49,
          "metadata": {},
          "output_type": "execute_result"
        },
        {
          "data": {
            "image/png": "[encoded data removed]",
            "text/plain": [
              "<Figure size 640x480 with 1 Axes>"
            ]
          },
          "metadata": {},
          "output_type": "display_data"
        }
      ],
      "source": [
        "sns.regplot(data=df_ski, x='ElevationGain', y='Price', ci=None)"
      ]
    },
    {
      "cell_type": "markdown",
      "metadata": {
        "id": "dAMkkAf4b4-f"
      },
      "source": [
        "## Exercise 3: Ski dataset, continued.\n",
        "\n",
        "1. Produce scatter plots for the pairs (AltitudeTop, Price) and (Slopes, Price). Which relationships look linear?\n",
        "\n",
        "2. Are these figures easy to read? How to solve this issue?"
      ]
    },
    {
      "cell_type": "markdown",
      "metadata": {
        "id": "ItNy2O4H-O-o"
      },
      "source": [
        "<font color='red'>Here stops the mandatory part. The rest is optional, depending on the pace of the class.</font>"
      ]
    },
    {
      "cell_type": "markdown",
      "metadata": {
        "id": "a-6rXE-1clTx"
      },
      "source": [
        "The last two figures clearly have a problem with *outliers*: one ski station has a number of slopes over 200, whereas the vast majority of the rest of the stations has less than 150 stations. This makes these figures hard to read. We will see in the next class how to solve this issue by dropping the right-most data point. For now, generative AI provides such a solution"
      ]
    },
    {
      "cell_type": "code",
      "execution_count": 57,
      "metadata": {
        "id": "qeVCLbAg9X1_"
      },
      "outputs": [
        {
          "data": {
            "text/plain": [
              "<Axes: xlabel='Slopes', ylabel='Price'>"
            ]
          },
          "execution_count": 57,
          "metadata": {},
          "output_type": "execute_result"
        },
        {
          "data": {
            "image/png": "[encoded data removed]",
            "text/plain": [
              "<Figure size 640x480 with 1 Axes>"
            ]
          },
          "metadata": {},
          "output_type": "display_data"
        }
      ],
      "source": [
        "# prompt: scatterplot price by slopes and drop extremal point\n",
        "sns.scatterplot(data=df_ski[df_ski['Slopes']<200], x='Slopes', y='Price')\n",
        "\n",
        "sns.scatterplot(data=df_ski,x=\"AltitudeTop\", y=df_ski[\"Price\"]) # pyright: ignore[reportArgumentType]\n",
        "sns.scatterplot(data=df_ski , x='Slopes', y='Price') # pyright: ignore[reportArgumentType]\n",
        "\n"
      ]
    },
    {
      "cell_type": "markdown",
      "metadata": {
        "id": "MmGibicXqt_-"
      },
      "source": [
        "But it still does not look linear! Try with a log:"
      ]
    },
    {
      "cell_type": "code",
      "execution_count": null,
      "metadata": {
        "id": "e7cQvEPF96-S"
      },
      "outputs": [],
      "source": [
        "import numpy as np"
      ]
    },
    {
      "cell_type": "code",
      "execution_count": null,
      "metadata": {
        "id": "DAGI_7Sw9148"
      },
      "outputs": [],
      "source": [
        "df_ski['LnSlopes'] = np.log(df_ski['Slopes'])\n",
        "df_ski"
      ]
    },
    {
      "cell_type": "code",
      "execution_count": null,
      "metadata": {
        "id": "JaoBLWUX-DGX"
      },
      "outputs": [],
      "source": [
        "sns.regplot(data=df_ski[df_ski['Slopes']<200], x='LnSlopes', y='Price', ci=None)"
      ]
    },
    {
      "cell_type": "markdown",
      "metadata": {
        "id": "-JGCm3SikKKC"
      },
      "source": [
        "# Wrap-up/summary of main commands"
      ]
    },
    {
      "cell_type": "markdown",
      "metadata": {
        "id": "k2V9gsLvkGAE"
      },
      "source": [
        "We learned how to:\n",
        "* import important Python packages like pandas and seaborn:\n",
        "\n",
        "`import pandas as pd`\n",
        "\n",
        "`import seaborn as sns`\n",
        "\n",
        "\n",
        "*   load a data set, print the first and last lines, and compute some descriptive statistics for its quantitative variables:\n",
        "\n",
        "`df = pd.read_csv(\"link\")`\n",
        "\n",
        "`df.describe()`\n",
        "*   select and create a variable (a column) in a data frame\n",
        "\n",
        "`df['variable_name']`\n",
        "\n",
        "`df['new_var'] = XXX`\n",
        "\n",
        "*   visualize a quantitative variable using seaborn syntax\n",
        "\n",
        "`sns.histplot(data = df['variable_name'],bins = 25)`\n",
        "`sns.boxplot(data = df['variable_name'])`\n",
        "\n",
        "\n",
        "* visualize two quantitative variables with scatter plots, similarly using seaborn syntax\n",
        "\n",
        "`sns.scatterplot(data = df, x = 'variable_1', y = 'variable_2')`"
      ]
    },
    {
      "cell_type": "markdown",
      "metadata": {
        "id": "rNdFyuUs7xqq"
      },
      "source": [
        "# Concluding Comments\n",
        "\n",
        "- We have focused on the seaborn library, to avoid overloading it with potentially confusing alternatives\n",
        "- Yet, Python offers many alternative ways of generating a given graph. Gemini will often generate plots using the pandas syntax. A typical example is given next.\n",
        "\n",
        "- TODO: **Homework 1** for next time (see link on Blackboard)"
      ]
    },
    {
      "cell_type": "code",
      "execution_count": null,
      "metadata": {
        "id": "WbuD4i9v8yyG"
      },
      "outputs": [],
      "source": [
        "# The pandas syntax\n",
        "df_movie['IMDb'].plot(kind = 'hist')"
      ]
    },
    {
      "cell_type": "markdown",
      "metadata": {
        "id": "7CYnbOloiaKu"
      },
      "source": [
        "# Optional readings\n",
        "\n",
        "* The Netflix prize:\n",
        "\n",
        "J. Bennett and S. Lanning, *The Netflix Prize*, 2007.\n",
        "\n",
        "https://www.cs.uic.edu/~liub/KDD-cup-2007/proceedings/The-Netflix-Prize-Bennett.pdf\n",
        "\n",
        "News article: *The Netflix Prize: How a $1 Million Contest Changed Binge-Watching Forever*, Thrillist, 2017.\n",
        "\n",
        "https://www.thrillist.com/entertainment/nation/the-netflix-prize\n",
        "\n",
        "Open access to the data: https://www.kaggle.com/datasets/netflix-inc/netflix-prize-data\n",
        "\n",
        "* Harvard Business Review, *Data Scientist: The Sexiest Job of the 21st Century*, October 2012\n",
        "\n",
        "https://hbr.org/2012/10/data-scientist-the-sexiest-job-of-the-21st-century\n",
        "\n",
        "* Harvard Business Review, *Is Data Scientist Still the Sexiest Job of the 21st Century?*, July 2022\n",
        "\n",
        "https://hbr.org/2022/07/is-data-scientist-still-the-sexiest-job-of-the-21st-century\n",
        "\n",
        "* Mickael Lewis, *Moneyball: The Art of Winning an Unfair Game*, W. W. Norton & Company Inc., 2003.\n",
        "\n",
        "* Cathy O'Neil, *Weapon of Math Destruction*, Crownbooks 2016.\n",
        "\n",
        "* In case you want to learn a bit more about Google Colab (but you don't have to), you may look at the welcome page https://colab.research.google.com/?hl=fr or https://colab.research.google.com/notebooks/basic_features_overview.ipynb\n",
        "\n",
        "\n",
        "\n",
        "\n"
      ]
    }
  ],
  "metadata": {
    "colab": {
      "provenance": []
    },
    "kernelspec": {
      "display_name": "data_science",
      "language": "python",
      "name": "python3"
    },
    "language_info": {
      "codemirror_mode": {
        "name": "ipython",
        "version": 3
      },
      "file_extension": ".py",
      "mimetype": "text/x-python",
      "name": "python",
      "nbconvert_exporter": "python",
      "pygments_lexer": "ipython3",
      "version": "3.13.3"
    }
  },
  "nbformat": 4,
  "nbformat_minor": 0
}
