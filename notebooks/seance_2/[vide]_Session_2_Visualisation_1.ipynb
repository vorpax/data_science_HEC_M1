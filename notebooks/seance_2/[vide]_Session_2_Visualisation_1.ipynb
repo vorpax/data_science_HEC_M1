{
  "nbformat": 4,
  "nbformat_minor": 0,
  "metadata": {
    "colab": {
      "provenance": [],
      "toc_visible": true
    },
    "kernelspec": {
      "name": "python3",
      "display_name": "Python 3"
    },
    "language_info": {
      "name": "python"
    }
  },
  "cells": [
    {
      "cell_type": "markdown",
      "source": [
        "# **Session 2**\n",
        "\n"
      ],
      "metadata": {
        "id": "Gp8lZwTK04lW"
      }
    },
    {
      "cell_type": "markdown",
      "source": [
        "# **Class content for Session 2**"
      ],
      "metadata": {
        "id": "LOWU8sh9wn6Y"
      }
    },
    {
      "cell_type": "markdown",
      "source": [
        "1.   Discussion of the homework\n",
        "2.   Extraction of specific rows (observations) and columns (variables).\n",
        "3.   Visualization of *two* quantitative variables"
      ],
      "metadata": {
        "id": "PK0-cnZGoUeq"
      }
    },
    {
      "cell_type": "markdown",
      "source": [
        "\n",
        "We use again the ski data set."
      ],
      "metadata": {
        "id": "Ucr3PCs2-wdK"
      }
    },
    {
      "cell_type": "code",
      "source": [
        "# Loading packages and data\n",
        "import pandas as pd\n",
        "import seaborn as sns\n",
        "\n",
        "df_ski = pd.read_csv('https://www.dropbox.com/scl/fi/pgfw6h0x9pxbr7c01jg6k/SkiData-FRG.csv?rlkey=yupn270yn4s4xnigoeasv084e&dl=1')\n",
        "df_ski"
      ],
      "metadata": {
        "id": "MBwPEIO5eZjw"
      },
      "execution_count": null,
      "outputs": []
    },
    {
      "cell_type": "markdown",
      "source": [
        "# **Part 1 -- Extracting observations and variables (Boolean masks)**"
      ],
      "metadata": {
        "id": "oc3ZbelPeFbN"
      }
    },
    {
      "cell_type": "markdown",
      "source": [
        "We first explore how to select the observations that meet specific criteria. This is quite useful to manipulate data, and we will use this, in particular, to improve the scatterplots we introduced last time."
      ],
      "metadata": {
        "id": "aG0mfXVAEZx_"
      }
    },
    {
      "cell_type": "markdown",
      "source": [
        "## Conditional statements"
      ],
      "metadata": {
        "id": "ORB-3fVyEZyJ"
      }
    },
    {
      "cell_type": "markdown",
      "source": [
        "* Symbols to compare numbers:\n",
        "\n",
        "==, >, =>, <, <=\n",
        "* Equality == can be used to compare 'anything' (any type of objects: vectors, tables, matrices, datasets, etc.)\n",
        "* Outcome a Boolean value: **False** or **True**\n",
        "\n"
      ],
      "metadata": {
        "id": "8Tk58OYLEZyJ"
      }
    },
    {
      "cell_type": "code",
      "source": [
        "# Outcome can be either 'True' or 'False'\n",
        "(5 < 6)"
      ],
      "metadata": {
        "id": "9FY0IMIhEZyJ"
      },
      "execution_count": null,
      "outputs": []
    },
    {
      "cell_type": "code",
      "source": [
        "# Compare to:\n",
        "(5 == 6)"
      ],
      "metadata": {
        "id": "xXJPwGYFEZyJ"
      },
      "execution_count": null,
      "outputs": []
    },
    {
      "cell_type": "code",
      "source": [
        "# Tests may be combined\n",
        "#   & stands for 'and'\n",
        "#   | stands for 'or'\n",
        "\n",
        "print('(2<3) & (3*4 <11) -->', (2<3) & (3*4 <11))\n",
        "print('(2<3) | (3*4 <11) -->', (2<3) | (3*4 <11))\n",
        "print('(1==2) == (2==3)  -->',(1==2) == (2==3))\n"
      ],
      "metadata": {
        "id": "lQGmq8qIEZyJ"
      },
      "execution_count": null,
      "outputs": []
    },
    {
      "cell_type": "code",
      "source": [
        "1 == True, 0 == False"
      ],
      "metadata": {
        "id": "z8ANcIHfhfHu"
      },
      "execution_count": null,
      "outputs": []
    },
    {
      "cell_type": "code",
      "source": [
        "# A useful trick: converting True -> 1, False -> 0\n",
        "True + 0, False + 0"
      ],
      "metadata": {
        "id": "134ExiJGht7I"
      },
      "execution_count": null,
      "outputs": []
    },
    {
      "cell_type": "markdown",
      "source": [
        "## Extracting rows"
      ],
      "metadata": {
        "id": "BzunJqH4EZyJ"
      }
    },
    {
      "cell_type": "code",
      "source": [
        "# Stations from Vosges only:\n",
        "row_mask = (df_ski['Mountain'] == 'Vosges')\n",
        "row_mask"
      ],
      "metadata": {
        "id": "_uOr9WNZEZyJ"
      },
      "execution_count": null,
      "outputs": []
    },
    {
      "cell_type": "markdown",
      "source": [
        "*Row mask* is a pandas series, with the same indices as the original dataset, and with Boolean values in each entries (True/False)."
      ],
      "metadata": {
        "id": "HD3dbqi_h71l"
      }
    },
    {
      "cell_type": "code",
      "source": [
        "# The following command returns the observations of df_ski for which the entry of row_mask is True:\n",
        "df_ski[row_mask]"
      ],
      "metadata": {
        "id": "zdXOSV1v_0Vj"
      },
      "execution_count": null,
      "outputs": []
    },
    {
      "cell_type": "code",
      "source": [
        "# You may also often encounter the following more direct way of coding the same thing:\n",
        "df_ski[df_ski['Mountain'] == 'Vosges']"
      ],
      "metadata": {
        "id": "rDj7TiTEdDDI"
      },
      "execution_count": null,
      "outputs": []
    },
    {
      "cell_type": "code",
      "source": [
        "# Let's play a bit with the row_mask:\n",
        "# We may force the conversion of False/True into numbers 0/1 as follows:\n",
        "row_mask+0"
      ],
      "metadata": {
        "id": "BJz-lWu3EZyJ"
      },
      "execution_count": null,
      "outputs": []
    },
    {
      "cell_type": "code",
      "source": [
        "# Note that the following command returns an error:\n",
        "df_ski[row_mask+0]"
      ],
      "metadata": {
        "id": "BvGswD3wid_z"
      },
      "execution_count": null,
      "outputs": []
    },
    {
      "cell_type": "code",
      "source": [
        "# How many stations in the Vosges?\n",
        "row_mask.sum()"
      ],
      "metadata": {
        "id": "W1oM1XspEZyJ"
      },
      "execution_count": null,
      "outputs": []
    },
    {
      "cell_type": "markdown",
      "source": [
        "## Exercice 1: ski dataset, continued"
      ],
      "metadata": {
        "id": "vupt_aJDJJDA"
      }
    },
    {
      "cell_type": "markdown",
      "source": [
        "1. Define the variable **ElevationGain** as the difference between **AltitudeTop** and **AltitudeDown**, and display all stations with an elevation gain smaller than 150 meters.\n",
        "\n",
        "2. Consider stations with 10 or fewer slopes. How many such stations are in the data set? Produce a histogram of the prices they charge. Which is the outlier station?"
      ],
      "metadata": {
        "id": "u6_Zh3w-JOwR"
      }
    },
    {
      "cell_type": "markdown",
      "source": [
        "## Extracting rows and columns."
      ],
      "metadata": {
        "id": "kvmgNqRrBnAC"
      }
    },
    {
      "cell_type": "code",
      "source": [
        "# We have already seen how to extract specific columns, by specifying a list (between backets) of the relevant variables\n",
        "# For instance,\n",
        "\n",
        "\n",
        "df_ski[['Mountain','AltitudeTop']]"
      ],
      "metadata": {
        "id": "jog77TrPBtgS"
      },
      "execution_count": null,
      "outputs": []
    },
    {
      "cell_type": "markdown",
      "source": [
        "To extract *simultaneously* rows and columns, we use the following approach.\n",
        "\n",
        "* Assume that we are given a mask on the rows `row_mask`\n",
        "* Assume that we are given a mask on the columns `column_mask`\n",
        "\n",
        "We can select the corresponding observations (rows) and variables (columns) using the following command:\n",
        "\n",
        "`df_ski.loc[row_mask,column_mask]`"
      ],
      "metadata": {
        "id": "tz_PrT8RBsQC"
      }
    },
    {
      "cell_type": "markdown",
      "source": [
        "To illustrate, we will create a new variable `Range`, grouping the mountains together into only three possible categories: Alpes, Pyrénées and older (and lower) mountains.\n",
        "\n",
        "* `Range = Alpes` **if** `Mountain = Alpes du Nord`, or `Mountain = Alpes du Sud`\n",
        "* `Range=Other` **if** `Mountain = Massif Central`, or `Mountain = Vosges` or `Mountain = Jura`\n",
        "* `Range = Pyrenees` **if** `Mountain = Pyrenees`"
      ],
      "metadata": {
        "id": "Y8usjv3zMdx6"
      }
    },
    {
      "cell_type": "markdown",
      "source": [
        "To do this, we first create this new column by setting all values equal to the default value *Other*, next change this value to Pyrénées/Alpes whenever relevant.\n"
      ],
      "metadata": {
        "id": "ZXBzBPv4NNFl"
      }
    },
    {
      "cell_type": "code",
      "source": [
        "df_ski['Range'] = 'Other'\n",
        "\n",
        "# For stations in the Pyrénées, we change this variable to Pyrénées\n",
        "row_mask = (df_ski['Mountain'] == 'Pyrénées')\n",
        "df_ski.loc[row_mask,'Range'] = 'Pyrénées'\n",
        "\n",
        "# For stations in the Alpes, we change it to Alpes\n",
        "row_mask = (df_ski['Mountain'] == 'Alpes du Nord') | (df_ski['Mountain'] == 'Alpes du Sud')\n",
        "df_ski.loc[row_mask,'Range'] = 'Alpes'"
      ],
      "metadata": {
        "id": "vOk3FGLZZE50"
      },
      "execution_count": null,
      "outputs": []
    },
    {
      "cell_type": "code",
      "source": [
        "# Outcome:\n",
        "df_ski"
      ],
      "metadata": {
        "id": "b7LndWxmZm70"
      },
      "execution_count": null,
      "outputs": []
    },
    {
      "cell_type": "code",
      "source": [
        "# We do not see much, let's sample stations at random:\n",
        "df_ski.sample(10)"
      ],
      "metadata": {
        "id": "hxrc2FTYZqgo"
      },
      "execution_count": null,
      "outputs": []
    },
    {
      "cell_type": "markdown",
      "source": [
        "# **Part 2: Improving scatterplots**"
      ],
      "metadata": {
        "id": "uBaZ9jEFXsU4"
      }
    },
    {
      "cell_type": "markdown",
      "source": [
        "Last time, we produced a scatterplot to visualize the relation between prices and slope numbers (see next cell). We noticed that the presence of outliers makes it difficult to visualize this relation."
      ],
      "metadata": {
        "id": "oYZuELAKpT9j"
      }
    },
    {
      "cell_type": "code",
      "source": [
        "df_ski.plot(x='Slopes', y='Price', kind='scatter')"
      ],
      "metadata": {
        "id": "pQi908qgpgav"
      },
      "execution_count": null,
      "outputs": []
    },
    {
      "cell_type": "markdown",
      "source": [
        "We here apply the tools we have just introduced to improve such a graph."
      ],
      "metadata": {
        "id": "RBhcywb7MBko"
      }
    },
    {
      "cell_type": "markdown",
      "source": [
        "### Method 1: suppressing outliers in a scatterplot"
      ],
      "metadata": {
        "id": "Ncpby7d0b89c"
      }
    },
    {
      "cell_type": "code",
      "source": [
        "# Seaborn syntax:\n",
        "sns.scatterplot(data=df_ski[df_ski['Slopes']<200], x='Slopes', y='Price')"
      ],
      "metadata": {
        "id": "-ws6vnffaub8"
      },
      "execution_count": null,
      "outputs": []
    },
    {
      "cell_type": "markdown",
      "source": [
        "### Method 2: Transforming the variables"
      ],
      "metadata": {
        "id": "QZT_5HvhybW6"
      }
    },
    {
      "cell_type": "markdown",
      "source": [
        "The above scatterplot points to a clear association between the number of slopes and the price, but not to a linear relation.\n",
        "\n",
        "In such cases, one may try and transform existing variables in the hope that simpler relations appear. Here, a logarithm looks suitable:"
      ],
      "metadata": {
        "id": "jbvKkWbfqCNZ"
      }
    },
    {
      "cell_type": "code",
      "source": [
        "# We import the numpy library for scientific computations\n",
        "# The logarithm function is np.log\n",
        "import numpy as np\n",
        "\n",
        "np.log(2)"
      ],
      "metadata": {
        "id": "j8pkh0qtbkmE"
      },
      "execution_count": null,
      "outputs": []
    },
    {
      "cell_type": "code",
      "source": [
        "df_ski['LnSlopes']= np.log(df_ski['Slopes'])\n",
        "df_ski"
      ],
      "metadata": {
        "id": "D5J37hiaDK9J"
      },
      "execution_count": null,
      "outputs": []
    },
    {
      "cell_type": "code",
      "source": [
        "# Now the association looks linear!\n",
        "sns.scatterplot(data=df_ski[df_ski['Slopes']<200], x='LnSlopes', y='Price')"
      ],
      "metadata": {
        "id": "tbapUMHieIEJ"
      },
      "execution_count": null,
      "outputs": []
    },
    {
      "cell_type": "markdown",
      "source": [
        "### Method 3: Colorings points by a categorical variable"
      ],
      "metadata": {
        "id": "6vWPuOH78cMY"
      }
    },
    {
      "cell_type": "markdown",
      "source": [
        "The above plot show a relation between the logarithm of the number of slopes and the price. How does this relation depend on the mountain of the station?"
      ],
      "metadata": {
        "id": "EqxRWp0pyjc0"
      }
    },
    {
      "cell_type": "code",
      "source": [
        "sns.scatterplot(data=df_ski[df_ski['Slopes']<200], x='LnSlopes', y='Price',hue = 'Mountain')"
      ],
      "metadata": {
        "id": "CBdv7dROyUKs"
      },
      "execution_count": null,
      "outputs": []
    },
    {
      "cell_type": "code",
      "source": [
        "# There are simply too many colors in the previous plot.\n",
        "# To improve upon it, we use instead the type of mountain\n",
        "sns.scatterplot(data=df_ski[df_ski['Slopes']<200], x='LnSlopes', y='Price', hue='Range')\n",
        "# This is much more readable than when using all the different mountains!"
      ],
      "metadata": {
        "id": "0-RcYfKFdm5y"
      },
      "execution_count": null,
      "outputs": []
    },
    {
      "cell_type": "markdown",
      "source": [
        "## Exercise 2\n",
        "\n",
        "1. Is **AltitudeDown** influential for the **Price**? Answer based on a well-chosen picture.\n",
        "\n",
        "2. Do some mountain ranges offer better deals in terms of prices for elevation gain ?"
      ],
      "metadata": {
        "id": "UycnWvUghzia"
      }
    },
    {
      "cell_type": "markdown",
      "source": [
        "# **Part 3: Single quantitative variable by a categorical variable**\n",
        "\n",
        "Scatterplots with hue are a great tool to visualize the relation between *two* quantitative variables, conditional on *one* categorical variable.\n",
        "\n",
        "Here, we address the visualization of *one* quantitative variable, conditional on a categorical one. The chief objective is to assess visually the extent to which the distribution of the quantitative variable depends on the value of the categorical one. That is, to figure out the conditional distribution of the quantitative variable, given the categorical one."
      ],
      "metadata": {
        "id": "UQryo92jrB0A"
      }
    },
    {
      "cell_type": "markdown",
      "source": [
        "We use the versatile *catplot* tool from seaborn."
      ],
      "metadata": {
        "id": "O53GQpCdcg9R"
      }
    },
    {
      "cell_type": "markdown",
      "source": [
        "#### Conditional boxplots"
      ],
      "metadata": {
        "id": "pTQsP4pC5bbL"
      }
    },
    {
      "cell_type": "code",
      "source": [
        "sns.catplot(data = df_ski, x = 'Range', y ='Price', kind = 'box')"
      ],
      "metadata": {
        "id": "p1qMR0aL5SjK"
      },
      "execution_count": null,
      "outputs": []
    },
    {
      "cell_type": "markdown",
      "source": [
        "#### Conditional barplots (with standard errors)"
      ],
      "metadata": {
        "id": "3uijCQKmcnTl"
      }
    },
    {
      "cell_type": "code",
      "source": [
        "# Mean plots: heights = sample means; bars = +/- 1.96 * standard errors\n",
        "# (where we recall that standard error = standard deviation / sqrt(sample size),\n",
        "# a.k.a. half width of a symmetric confidence interval)\n",
        "sns.catplot(data=df_ski, x='Range', y='Price', kind='bar')"
      ],
      "metadata": {
        "id": "o-ZDqXINfEBI"
      },
      "execution_count": null,
      "outputs": []
    },
    {
      "cell_type": "markdown",
      "source": [
        "How to draw conclusions from such a graph:\n",
        "\n",
        "<font color='blue'>We read significant differences in average prices between resorts in the 'Other' category vs. 'Alpes' and 'Pyrénées', and no significant difference in average prices between 'Alpes' and 'Pyrénées'.</font>"
      ],
      "metadata": {
        "id": "sPc1RI_RbSoV"
      }
    },
    {
      "cell_type": "markdown",
      "source": [
        "## Exercise 3"
      ],
      "metadata": {
        "id": "8ekgXQWEtQPi"
      }
    },
    {
      "cell_type": "markdown",
      "source": [
        "1. Illustrate how **AltitudeTop** varies by the mountain ranges.\n",
        "\n",
        "2. Do some mountain ranges offer better deals in terms of prices for elevation gain ? Answer using barplot."
      ],
      "metadata": {
        "id": "62TGIGE2tTFu"
      }
    },
    {
      "cell_type": "markdown",
      "source": [
        "## Numerical statistics (advanced topic)"
      ],
      "metadata": {
        "id": "BI-0WCALi-JN"
      }
    },
    {
      "cell_type": "markdown",
      "source": [
        "Commands are of the following form, featuring **groupby**:"
      ],
      "metadata": {
        "id": "f-pwPvR4jU-O"
      }
    },
    {
      "cell_type": "code",
      "source": [
        "df_ski.groupby('Range')['Price'].describe()"
      ],
      "metadata": {
        "id": "1p5PaT3WjI4P"
      },
      "execution_count": null,
      "outputs": []
    },
    {
      "cell_type": "markdown",
      "source": [
        "# **Wrap up/Summary of main commands**"
      ],
      "metadata": {
        "id": "lDf-LIS1O7he"
      }
    },
    {
      "cell_type": "markdown",
      "source": [
        "Today, we\n",
        "- extracted subsets of rows and/or columns from a data set,\n",
        "    - based on logical conditions, defining masks:\n",
        "\n",
        "    `df['row_mask']`\n",
        "\n",
        "    `df['col_mask']`\n",
        "\n",
        "    - and applied this all to zooming in scatter plots (to removing outliers);\n",
        "- displayed pairs of quantitative variables by a categorical variable:\n",
        "\n",
        "    `sns.scatterplot(data = df, x = 'variable_name', y = 'variable_name', hue = 'variable_name')`\n",
        "\n",
        "- saw how to graphically (and numerically) analyze a quantitative variable by a categorical variable, with box plots\n",
        "\n",
        "    `sns.catplot(data = df, x = 'variable_name', y = 'variable_name', kind = 'box')`\n",
        "\n",
        " and barplots:\n",
        "\n",
        "    `sns.catplot(data = df, x = 'variable_name', y = 'variable_name',kind= 'bar')`\n",
        "\n",
        "- Don't forget the **homework 2** for next time!\n"
      ],
      "metadata": {
        "id": "3AsCTRUaPRTl"
      }
    }
  ]
}