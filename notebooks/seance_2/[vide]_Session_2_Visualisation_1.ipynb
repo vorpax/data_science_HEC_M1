{
  "cells": [
    {
      "cell_type": "markdown",
      "metadata": {
        "id": "Gp8lZwTK04lW"
      },
      "source": [
        "# **Session 2**\n",
        "\n"
      ]
    },
    {
      "cell_type": "markdown",
      "metadata": {
        "id": "LOWU8sh9wn6Y"
      },
      "source": [
        "# **Class content for Session 2**"
      ]
    },
    {
      "cell_type": "markdown",
      "metadata": {
        "id": "PK0-cnZGoUeq"
      },
      "source": [
        "1.   Discussion of the homework\n",
        "2.   Extraction of specific rows (observations) and columns (variables).\n",
        "3.   Visualization of *two* quantitative variables"
      ]
    },
    {
      "cell_type": "markdown",
      "metadata": {
        "id": "Ucr3PCs2-wdK"
      },
      "source": [
        "\n",
        "We use again the ski data set."
      ]
    },
    {
      "cell_type": "code",
      "execution_count": 1,
      "metadata": {
        "id": "MBwPEIO5eZjw"
      },
      "outputs": [
        {
          "data": {
            "text/html": [
              "<div>\n",
              "<style scoped>\n",
              "    .dataframe tbody tr th:only-of-type {\n",
              "        vertical-align: middle;\n",
              "    }\n",
              "\n",
              "    .dataframe tbody tr th {\n",
              "        vertical-align: top;\n",
              "    }\n",
              "\n",
              "    .dataframe thead th {\n",
              "        text-align: right;\n",
              "    }\n",
              "</style>\n",
              "<table border=\"1\" class=\"dataframe\">\n",
              "  <thead>\n",
              "    <tr style=\"text-align: right;\">\n",
              "      <th></th>\n",
              "      <th>Station</th>\n",
              "      <th>Price</th>\n",
              "      <th>Mountain</th>\n",
              "      <th>AltitudeDown</th>\n",
              "      <th>AltitudeTop</th>\n",
              "      <th>Slopes</th>\n",
              "      <th>Lifts</th>\n",
              "    </tr>\n",
              "  </thead>\n",
              "  <tbody>\n",
              "    <tr>\n",
              "      <th>0</th>\n",
              "      <td>Abondance</td>\n",
              "      <td>127</td>\n",
              "      <td>Alpes du Nord</td>\n",
              "      <td>1140</td>\n",
              "      <td>1700</td>\n",
              "      <td>13</td>\n",
              "      <td>9</td>\n",
              "    </tr>\n",
              "    <tr>\n",
              "      <th>1</th>\n",
              "      <td>Abries en Queyras</td>\n",
              "      <td>150</td>\n",
              "      <td>Alpes du Sud</td>\n",
              "      <td>1550</td>\n",
              "      <td>2450</td>\n",
              "      <td>16</td>\n",
              "      <td>5</td>\n",
              "    </tr>\n",
              "    <tr>\n",
              "      <th>2</th>\n",
              "      <td>Aillons Margeriaz</td>\n",
              "      <td>115</td>\n",
              "      <td>Alpes du Nord</td>\n",
              "      <td>1000</td>\n",
              "      <td>1900</td>\n",
              "      <td>40</td>\n",
              "      <td>18</td>\n",
              "    </tr>\n",
              "    <tr>\n",
              "      <th>3</th>\n",
              "      <td>Albiez Montrond</td>\n",
              "      <td>133</td>\n",
              "      <td>Alpes du Nord</td>\n",
              "      <td>1500</td>\n",
              "      <td>2100</td>\n",
              "      <td>26</td>\n",
              "      <td>11</td>\n",
              "    </tr>\n",
              "    <tr>\n",
              "      <th>4</th>\n",
              "      <td>Alpe dHuez</td>\n",
              "      <td>267</td>\n",
              "      <td>Alpes du Nord</td>\n",
              "      <td>1860</td>\n",
              "      <td>3300</td>\n",
              "      <td>111</td>\n",
              "      <td>70</td>\n",
              "    </tr>\n",
              "    <tr>\n",
              "      <th>...</th>\n",
              "      <td>...</td>\n",
              "      <td>...</td>\n",
              "      <td>...</td>\n",
              "      <td>...</td>\n",
              "      <td>...</td>\n",
              "      <td>...</td>\n",
              "      <td>...</td>\n",
              "    </tr>\n",
              "    <tr>\n",
              "      <th>199</th>\n",
              "      <td>Vars</td>\n",
              "      <td>200</td>\n",
              "      <td>Alpes du Sud</td>\n",
              "      <td>1650</td>\n",
              "      <td>2750</td>\n",
              "      <td>72</td>\n",
              "      <td>26</td>\n",
              "    </tr>\n",
              "    <tr>\n",
              "      <th>200</th>\n",
              "      <td>Vaujany</td>\n",
              "      <td>172</td>\n",
              "      <td>Alpes du Nord</td>\n",
              "      <td>1650</td>\n",
              "      <td>2800</td>\n",
              "      <td>30</td>\n",
              "      <td>20</td>\n",
              "    </tr>\n",
              "    <tr>\n",
              "      <th>201</th>\n",
              "      <td>Ventron</td>\n",
              "      <td>123</td>\n",
              "      <td>Vosges</td>\n",
              "      <td>870</td>\n",
              "      <td>1150</td>\n",
              "      <td>10</td>\n",
              "      <td>7</td>\n",
              "    </tr>\n",
              "    <tr>\n",
              "      <th>202</th>\n",
              "      <td>Villard de Lans</td>\n",
              "      <td>178</td>\n",
              "      <td>Alpes du Nord</td>\n",
              "      <td>1143</td>\n",
              "      <td>2050</td>\n",
              "      <td>52</td>\n",
              "      <td>20</td>\n",
              "    </tr>\n",
              "    <tr>\n",
              "      <th>203</th>\n",
              "      <td>Villard Reculas</td>\n",
              "      <td>103</td>\n",
              "      <td>Alpes du Nord</td>\n",
              "      <td>1480</td>\n",
              "      <td>3300</td>\n",
              "      <td>12</td>\n",
              "      <td>8</td>\n",
              "    </tr>\n",
              "  </tbody>\n",
              "</table>\n",
              "<p>204 rows × 7 columns</p>\n",
              "</div>"
            ],
            "text/plain": [
              "               Station  Price       Mountain  AltitudeDown  AltitudeTop  \\\n",
              "0            Abondance    127  Alpes du Nord          1140         1700   \n",
              "1    Abries en Queyras    150   Alpes du Sud          1550         2450   \n",
              "2    Aillons Margeriaz    115  Alpes du Nord          1000         1900   \n",
              "3      Albiez Montrond    133  Alpes du Nord          1500         2100   \n",
              "4           Alpe dHuez    267  Alpes du Nord          1860         3300   \n",
              "..                 ...    ...            ...           ...          ...   \n",
              "199               Vars    200   Alpes du Sud          1650         2750   \n",
              "200            Vaujany    172  Alpes du Nord          1650         2800   \n",
              "201            Ventron    123         Vosges           870         1150   \n",
              "202    Villard de Lans    178  Alpes du Nord          1143         2050   \n",
              "203    Villard Reculas    103  Alpes du Nord          1480         3300   \n",
              "\n",
              "     Slopes  Lifts  \n",
              "0        13      9  \n",
              "1        16      5  \n",
              "2        40     18  \n",
              "3        26     11  \n",
              "4       111     70  \n",
              "..      ...    ...  \n",
              "199      72     26  \n",
              "200      30     20  \n",
              "201      10      7  \n",
              "202      52     20  \n",
              "203      12      8  \n",
              "\n",
              "[204 rows x 7 columns]"
            ]
          },
          "execution_count": 1,
          "metadata": {},
          "output_type": "execute_result"
        }
      ],
      "source": [
        "# Loading packages and data\n",
        "import pandas as pd\n",
        "import seaborn as sns\n",
        "\n",
        "df_ski = pd.read_csv('https://www.dropbox.com/scl/fi/pgfw6h0x9pxbr7c01jg6k/SkiData-FRG.csv?rlkey=yupn270yn4s4xnigoeasv084e&dl=1')\n",
        "df_ski"
      ]
    },
    {
      "cell_type": "markdown",
      "metadata": {
        "id": "oc3ZbelPeFbN"
      },
      "source": [
        "# **Part 1 -- Extracting observations and variables (Boolean masks)**"
      ]
    },
    {
      "cell_type": "markdown",
      "metadata": {
        "id": "aG0mfXVAEZx_"
      },
      "source": [
        "We first explore how to select the observations that meet specific criteria. This is quite useful to manipulate data, and we will use this, in particular, to improve the scatterplots we introduced last time."
      ]
    },
    {
      "cell_type": "markdown",
      "metadata": {
        "id": "ORB-3fVyEZyJ"
      },
      "source": [
        "## Conditional statements"
      ]
    },
    {
      "cell_type": "markdown",
      "metadata": {
        "id": "8Tk58OYLEZyJ"
      },
      "source": [
        "* Symbols to compare numbers:\n",
        "\n",
        "==, >, =>, <, <=\n",
        "* Equality == can be used to compare 'anything' (any type of objects: vectors, tables, matrices, datasets, etc.)\n",
        "* Outcome a Boolean value: **False** or **True**\n",
        "\n"
      ]
    },
    {
      "cell_type": "code",
      "execution_count": null,
      "metadata": {
        "id": "9FY0IMIhEZyJ"
      },
      "outputs": [],
      "source": [
        "# Outcome can be either 'True' or 'False'\n",
        "(5 < 6)"
      ]
    },
    {
      "cell_type": "code",
      "execution_count": null,
      "metadata": {
        "id": "xXJPwGYFEZyJ"
      },
      "outputs": [],
      "source": [
        "# Compare to:\n",
        "(5 == 6)"
      ]
    },
    {
      "cell_type": "code",
      "execution_count": null,
      "metadata": {
        "id": "lQGmq8qIEZyJ"
      },
      "outputs": [],
      "source": [
        "# Tests may be combined\n",
        "#   & stands for 'and'\n",
        "#   | stands for 'or'\n",
        "\n",
        "print('(2<3) & (3*4 <11) -->', (2<3) & (3*4 <11))\n",
        "print('(2<3) | (3*4 <11) -->', (2<3) | (3*4 <11))\n",
        "print('(1==2) == (2==3)  -->',(1==2) == (2==3))\n"
      ]
    },
    {
      "cell_type": "code",
      "execution_count": null,
      "metadata": {
        "id": "z8ANcIHfhfHu"
      },
      "outputs": [],
      "source": [
        "1 == True, 0 == False"
      ]
    },
    {
      "cell_type": "code",
      "execution_count": null,
      "metadata": {
        "id": "134ExiJGht7I"
      },
      "outputs": [],
      "source": [
        "# A useful trick: converting True -> 1, False -> 0\n",
        "True + 0, False + 0"
      ]
    },
    {
      "cell_type": "markdown",
      "metadata": {
        "id": "BzunJqH4EZyJ"
      },
      "source": [
        "## Extracting rows"
      ]
    },
    {
      "cell_type": "code",
      "execution_count": null,
      "metadata": {
        "id": "_uOr9WNZEZyJ"
      },
      "outputs": [],
      "source": [
        "# Stations from Vosges only:\n",
        "row_mask = (df_ski['Mountain'] == 'Vosges')\n",
        "row_mask"
      ]
    },
    {
      "cell_type": "markdown",
      "metadata": {
        "id": "HD3dbqi_h71l"
      },
      "source": [
        "*Row mask* is a pandas series, with the same indices as the original dataset, and with Boolean values in each entries (True/False)."
      ]
    },
    {
      "cell_type": "code",
      "execution_count": null,
      "metadata": {
        "id": "zdXOSV1v_0Vj"
      },
      "outputs": [],
      "source": [
        "# The following command returns the observations of df_ski for which the entry of row_mask is True:\n",
        "df_ski[row_mask]"
      ]
    },
    {
      "cell_type": "code",
      "execution_count": null,
      "metadata": {
        "id": "rDj7TiTEdDDI"
      },
      "outputs": [],
      "source": [
        "# You may also often encounter the following more direct way of coding the same thing:\n",
        "df_ski[df_ski['Mountain'] == 'Vosges']"
      ]
    },
    {
      "cell_type": "code",
      "execution_count": null,
      "metadata": {
        "id": "BJz-lWu3EZyJ"
      },
      "outputs": [],
      "source": [
        "# Let's play a bit with the row_mask:\n",
        "# We may force the conversion of False/True into numbers 0/1 as follows:\n",
        "row_mask+0"
      ]
    },
    {
      "cell_type": "code",
      "execution_count": null,
      "metadata": {
        "id": "BvGswD3wid_z"
      },
      "outputs": [],
      "source": [
        "# Note that the following command returns an error:\n",
        "df_ski[row_mask+0]"
      ]
    },
    {
      "cell_type": "code",
      "execution_count": null,
      "metadata": {
        "id": "W1oM1XspEZyJ"
      },
      "outputs": [],
      "source": [
        "# How many stations in the Vosges?\n",
        "row_mask.sum()"
      ]
    },
    {
      "cell_type": "markdown",
      "metadata": {
        "id": "vupt_aJDJJDA"
      },
      "source": [
        "## Exercice 1: ski dataset, continued"
      ]
    },
    {
      "cell_type": "markdown",
      "metadata": {
        "id": "u6_Zh3w-JOwR"
      },
      "source": [
        "1. Define the variable **ElevationGain** as the difference between **AltitudeTop** and **AltitudeDown**, and display all stations with an elevation gain smaller than 150 meters.\n",
        "\n",
        "2. Consider stations with 10 or fewer slopes. How many such stations are in the data set? Produce a histogram of the prices they charge. Which is the outlier station?"
      ]
    },
    {
      "cell_type": "code",
      "execution_count": null,
      "metadata": {},
      "outputs": [
        {
          "name": "stderr",
          "output_type": "stream",
          "text": [
            "\u001b[32m2025-09-03 08:17:48.380\u001b[0m | \u001b[1mINFO    \u001b[0m | \u001b[36m__main__\u001b[0m:\u001b[36m<module>\u001b[0m:\u001b[36m15\u001b[0m - \u001b[1mLes sorted masked stations \n",
            "\u001b[0m\n"
          ]
        },
        {
          "data": {
            "text/html": [
              "<pre style=\"white-space:pre;overflow-x:auto;line-height:normal;font-family:Menlo,'DejaVu Sans Mono',consolas,'Courier New',monospace\">                         Station  Price        Mountain  AltitudeDown  \\\n",
              "<span style=\"color: #008080; text-decoration-color: #008080; font-weight: bold\">166</span>           Saint Jean de Sixt     <span style=\"color: #008080; text-decoration-color: #008080; font-weight: bold\">40</span>   Alpes du Nord           <span style=\"color: #008080; text-decoration-color: #008080; font-weight: bold\">940</span>   \n",
              "<span style=\"color: #008080; text-decoration-color: #008080; font-weight: bold\">76</span>             La Grave la Meije    <span style=\"color: #008080; text-decoration-color: #008080; font-weight: bold\">258</span>    Alpes du Sud          <span style=\"color: #008080; text-decoration-color: #008080; font-weight: bold\">1450</span>   \n",
              "<span style=\"color: #008080; text-decoration-color: #008080; font-weight: bold\">20</span>                       Bessans     <span style=\"color: #008080; text-decoration-color: #008080; font-weight: bold\">51</span>   Alpes du Nord          <span style=\"color: #008080; text-decoration-color: #008080; font-weight: bold\">1740</span>   \n",
              "<span style=\"color: #008080; text-decoration-color: #008080; font-weight: bold\">90</span>          Le Desert dEntremont     <span style=\"color: #008080; text-decoration-color: #008080; font-weight: bold\">54</span>   Alpes du Nord          <span style=\"color: #008080; text-decoration-color: #008080; font-weight: bold\">1200</span>   \n",
              "<span style=\"color: #008080; text-decoration-color: #008080; font-weight: bold\">93</span>                    Le Granier     <span style=\"color: #008080; text-decoration-color: #008080; font-weight: bold\">54</span>   Alpes du Nord          <span style=\"color: #008080; text-decoration-color: #008080; font-weight: bold\">1000</span>   \n",
              "<span style=\"color: #008080; text-decoration-color: #008080; font-weight: bold\">73</span>         La Combe Saint Pierre     <span style=\"color: #008080; text-decoration-color: #008080; font-weight: bold\">60</span>            Jura           <span style=\"color: #008080; text-decoration-color: #008080; font-weight: bold\">880</span>   \n",
              "<span style=\"color: #008080; text-decoration-color: #008080; font-weight: bold\">77</span>            La Loge des Gardes     <span style=\"color: #008080; text-decoration-color: #008080; font-weight: bold\">50</span>  Massif central          <span style=\"color: #008080; text-decoration-color: #008080; font-weight: bold\">1000</span>   \n",
              "<span style=\"color: #008080; text-decoration-color: #008080; font-weight: bold\">185</span>          Turini Camp dArgent     <span style=\"color: #008080; text-decoration-color: #008080; font-weight: bold\">75</span>    Alpes du Sud          <span style=\"color: #008080; text-decoration-color: #008080; font-weight: bold\">1600</span>   \n",
              "<span style=\"color: #008080; text-decoration-color: #008080; font-weight: bold\">41</span>                  Col de Porte     <span style=\"color: #008080; text-decoration-color: #008080; font-weight: bold\">70</span>   Alpes du Nord          <span style=\"color: #008080; text-decoration-color: #008080; font-weight: bold\">1200</span>   \n",
              "<span style=\"color: #008080; text-decoration-color: #008080; font-weight: bold\">40</span>                Col de Marcieu     <span style=\"color: #008080; text-decoration-color: #008080; font-weight: bold\">65</span>   Alpes du Nord          <span style=\"color: #008080; text-decoration-color: #008080; font-weight: bold\">1000</span>   \n",
              "<span style=\"color: #008080; text-decoration-color: #008080; font-weight: bold\">135</span>  Montmin - Col de la Forclaz     <span style=\"color: #008080; text-decoration-color: #008080; font-weight: bold\">50</span>   Alpes du Nord          <span style=\"color: #008080; text-decoration-color: #008080; font-weight: bold\">1090</span>   \n",
              "<span style=\"color: #008080; text-decoration-color: #008080; font-weight: bold\">58</span>                       Goulier     <span style=\"color: #008080; text-decoration-color: #008080; font-weight: bold\">95</span>        Pyrénées          <span style=\"color: #008080; text-decoration-color: #008080; font-weight: bold\">1500</span>   \n",
              "<span style=\"color: #008080; text-decoration-color: #008080; font-weight: bold\">110</span>                  Les Coulmes     <span style=\"color: #008080; text-decoration-color: #008080; font-weight: bold\">45</span>   Alpes du Nord          <span style=\"color: #008080; text-decoration-color: #008080; font-weight: bold\">1064</span>   \n",
              "<span style=\"color: #008080; text-decoration-color: #008080; font-weight: bold\">100</span>      Le Sappey en Chartreuse     <span style=\"color: #008080; text-decoration-color: #008080; font-weight: bold\">60</span>   Alpes du Nord           <span style=\"color: #008080; text-decoration-color: #008080; font-weight: bold\">960</span>   \n",
              "<span style=\"color: #008080; text-decoration-color: #008080; font-weight: bold\">158</span>                        Romme     <span style=\"color: #008080; text-decoration-color: #008080; font-weight: bold\">60</span>   Alpes du Nord          <span style=\"color: #008080; text-decoration-color: #008080; font-weight: bold\">1200</span>   \n",
              "<span style=\"color: #008080; text-decoration-color: #008080; font-weight: bold\">149</span>                     Praboure     <span style=\"color: #008080; text-decoration-color: #008080; font-weight: bold\">50</span>  Massif central          <span style=\"color: #008080; text-decoration-color: #008080; font-weight: bold\">1265</span>   \n",
              "<span style=\"color: #008080; text-decoration-color: #008080; font-weight: bold\">123</span>              Lus la Jarjatte     <span style=\"color: #008080; text-decoration-color: #008080; font-weight: bold\">66</span>   Alpes du Nord          <span style=\"color: #008080; text-decoration-color: #008080; font-weight: bold\">1140</span>   \n",
              "<span style=\"color: #008080; text-decoration-color: #008080; font-weight: bold\">192</span>                   Val Pelens     <span style=\"color: #008080; text-decoration-color: #008080; font-weight: bold\">75</span>    Alpes du Sud          <span style=\"color: #008080; text-decoration-color: #008080; font-weight: bold\">1600</span>   \n",
              "<span style=\"color: #008080; text-decoration-color: #008080; font-weight: bold\">56</span>                  Gaschney <span style=\"color: #008080; text-decoration-color: #008080; font-weight: bold\">360</span>     <span style=\"color: #008080; text-decoration-color: #008080; font-weight: bold\">85</span>          Vosges           <span style=\"color: #008080; text-decoration-color: #008080; font-weight: bold\">980</span>   \n",
              "<span style=\"color: #008080; text-decoration-color: #008080; font-weight: bold\">39</span>              Col de lArzelier     <span style=\"color: #008080; text-decoration-color: #008080; font-weight: bold\">75</span>   Alpes du Nord          <span style=\"color: #008080; text-decoration-color: #008080; font-weight: bold\">1154</span>   \n",
              "<span style=\"color: #008080; text-decoration-color: #008080; font-weight: bold\">25</span>                     Brameloup     <span style=\"color: #008080; text-decoration-color: #008080; font-weight: bold\">70</span>  Massif central          <span style=\"color: #008080; text-decoration-color: #008080; font-weight: bold\">1200</span>   \n",
              "<span style=\"color: #008080; text-decoration-color: #008080; font-weight: bold\">87</span>     Le Bleymard - Mont Lozere     <span style=\"color: #008080; text-decoration-color: #008080; font-weight: bold\">65</span>  Massif central          <span style=\"color: #008080; text-decoration-color: #008080; font-weight: bold\">1360</span>   \n",
              "<span style=\"color: #008080; text-decoration-color: #008080; font-weight: bold\">69</span>             La Bresse Lispach     <span style=\"color: #008080; text-decoration-color: #008080; font-weight: bold\">97</span>          Vosges           <span style=\"color: #008080; text-decoration-color: #008080; font-weight: bold\">910</span>   \n",
              "<span style=\"color: #008080; text-decoration-color: #008080; font-weight: bold\">67</span>             La Bresse Brabant     <span style=\"color: #008080; text-decoration-color: #008080; font-weight: bold\">91</span>          Vosges           <span style=\"color: #008080; text-decoration-color: #008080; font-weight: bold\">880</span>   \n",
              "<span style=\"color: #008080; text-decoration-color: #008080; font-weight: bold\">27</span>          Bussang - Larcenaire     <span style=\"color: #008080; text-decoration-color: #008080; font-weight: bold\">87</span>          Vosges           <span style=\"color: #008080; text-decoration-color: #008080; font-weight: bold\">822</span>   \n",
              "<span style=\"color: #008080; text-decoration-color: #008080; font-weight: bold\">86</span>             Le Ballon dAlsace    <span style=\"color: #008080; text-decoration-color: #008080; font-weight: bold\">100</span>          Vosges           <span style=\"color: #008080; text-decoration-color: #008080; font-weight: bold\">820</span>   \n",
              "<span style=\"color: #008080; text-decoration-color: #008080; font-weight: bold\">74</span>            La Croix de Bauzon     <span style=\"color: #008080; text-decoration-color: #008080; font-weight: bold\">79</span>  Massif central          <span style=\"color: #008080; text-decoration-color: #008080; font-weight: bold\">1250</span>   \n",
              "<span style=\"color: #008080; text-decoration-color: #008080; font-weight: bold\">180</span>                 Serre Eyraud     <span style=\"color: #008080; text-decoration-color: #008080; font-weight: bold\">75</span>    Alpes du Sud          <span style=\"color: #008080; text-decoration-color: #008080; font-weight: bold\">1480</span>   \n",
              "<span style=\"color: #008080; text-decoration-color: #008080; font-weight: bold\">85</span>             Laye en Champsaur    <span style=\"color: #008080; text-decoration-color: #008080; font-weight: bold\">106</span>    Alpes du Sud          <span style=\"color: #008080; text-decoration-color: #008080; font-weight: bold\">1300</span>   \n",
              "\n",
              "     AltitudeTop  Slopes  Lifts  ElevationGain  \n",
              "<span style=\"color: #008080; text-decoration-color: #008080; font-weight: bold\">166</span>         <span style=\"color: #008080; text-decoration-color: #008080; font-weight: bold\">1000</span>       <span style=\"color: #008080; text-decoration-color: #008080; font-weight: bold\">1</span>      <span style=\"color: #008080; text-decoration-color: #008080; font-weight: bold\">1</span>             <span style=\"color: #008080; text-decoration-color: #008080; font-weight: bold\">60</span>  \n",
              "<span style=\"color: #008080; text-decoration-color: #008080; font-weight: bold\">76</span>          <span style=\"color: #008080; text-decoration-color: #008080; font-weight: bold\">3550</span>       <span style=\"color: #008080; text-decoration-color: #008080; font-weight: bold\">1</span>      <span style=\"color: #008080; text-decoration-color: #008080; font-weight: bold\">3</span>           <span style=\"color: #008080; text-decoration-color: #008080; font-weight: bold\">2100</span>  \n",
              "<span style=\"color: #008080; text-decoration-color: #008080; font-weight: bold\">20</span>          <span style=\"color: #008080; text-decoration-color: #008080; font-weight: bold\">2000</span>       <span style=\"color: #008080; text-decoration-color: #008080; font-weight: bold\">3</span>      <span style=\"color: #008080; text-decoration-color: #008080; font-weight: bold\">3</span>            <span style=\"color: #008080; text-decoration-color: #008080; font-weight: bold\">260</span>  \n",
              "<span style=\"color: #008080; text-decoration-color: #008080; font-weight: bold\">90</span>          <span style=\"color: #008080; text-decoration-color: #008080; font-weight: bold\">1400</span>       <span style=\"color: #008080; text-decoration-color: #008080; font-weight: bold\">3</span>      <span style=\"color: #008080; text-decoration-color: #008080; font-weight: bold\">3</span>            <span style=\"color: #008080; text-decoration-color: #008080; font-weight: bold\">200</span>  \n",
              "<span style=\"color: #008080; text-decoration-color: #008080; font-weight: bold\">93</span>          <span style=\"color: #008080; text-decoration-color: #008080; font-weight: bold\">1420</span>       <span style=\"color: #008080; text-decoration-color: #008080; font-weight: bold\">4</span>      <span style=\"color: #008080; text-decoration-color: #008080; font-weight: bold\">4</span>            <span style=\"color: #008080; text-decoration-color: #008080; font-weight: bold\">420</span>  \n",
              "<span style=\"color: #008080; text-decoration-color: #008080; font-weight: bold\">73</span>          <span style=\"color: #008080; text-decoration-color: #008080; font-weight: bold\">1035</span>       <span style=\"color: #008080; text-decoration-color: #008080; font-weight: bold\">4</span>      <span style=\"color: #008080; text-decoration-color: #008080; font-weight: bold\">4</span>            <span style=\"color: #008080; text-decoration-color: #008080; font-weight: bold\">155</span>  \n",
              "<span style=\"color: #008080; text-decoration-color: #008080; font-weight: bold\">77</span>          <span style=\"color: #008080; text-decoration-color: #008080; font-weight: bold\">1160</span>       <span style=\"color: #008080; text-decoration-color: #008080; font-weight: bold\">4</span>      <span style=\"color: #008080; text-decoration-color: #008080; font-weight: bold\">4</span>            <span style=\"color: #008080; text-decoration-color: #008080; font-weight: bold\">160</span>  \n",
              "<span style=\"color: #008080; text-decoration-color: #008080; font-weight: bold\">185</span>         <span style=\"color: #008080; text-decoration-color: #008080; font-weight: bold\">1920</span>       <span style=\"color: #008080; text-decoration-color: #008080; font-weight: bold\">4</span>      <span style=\"color: #008080; text-decoration-color: #008080; font-weight: bold\">3</span>            <span style=\"color: #008080; text-decoration-color: #008080; font-weight: bold\">320</span>  \n",
              "<span style=\"color: #008080; text-decoration-color: #008080; font-weight: bold\">41</span>          <span style=\"color: #008080; text-decoration-color: #008080; font-weight: bold\">1650</span>       <span style=\"color: #008080; text-decoration-color: #008080; font-weight: bold\">5</span>      <span style=\"color: #008080; text-decoration-color: #008080; font-weight: bold\">5</span>            <span style=\"color: #008080; text-decoration-color: #008080; font-weight: bold\">450</span>  \n",
              "<span style=\"color: #008080; text-decoration-color: #008080; font-weight: bold\">40</span>          <span style=\"color: #008080; text-decoration-color: #008080; font-weight: bold\">1400</span>       <span style=\"color: #008080; text-decoration-color: #008080; font-weight: bold\">6</span>      <span style=\"color: #008080; text-decoration-color: #008080; font-weight: bold\">6</span>            <span style=\"color: #008080; text-decoration-color: #008080; font-weight: bold\">400</span>  \n",
              "<span style=\"color: #008080; text-decoration-color: #008080; font-weight: bold\">135</span>         <span style=\"color: #008080; text-decoration-color: #008080; font-weight: bold\">1180</span>       <span style=\"color: #008080; text-decoration-color: #008080; font-weight: bold\">6</span>      <span style=\"color: #008080; text-decoration-color: #008080; font-weight: bold\">3</span>             <span style=\"color: #008080; text-decoration-color: #008080; font-weight: bold\">90</span>  \n",
              "<span style=\"color: #008080; text-decoration-color: #008080; font-weight: bold\">58</span>          <span style=\"color: #008080; text-decoration-color: #008080; font-weight: bold\">1850</span>       <span style=\"color: #008080; text-decoration-color: #008080; font-weight: bold\">6</span>      <span style=\"color: #008080; text-decoration-color: #008080; font-weight: bold\">4</span>            <span style=\"color: #008080; text-decoration-color: #008080; font-weight: bold\">350</span>  \n",
              "<span style=\"color: #008080; text-decoration-color: #008080; font-weight: bold\">110</span>         <span style=\"color: #008080; text-decoration-color: #008080; font-weight: bold\">1463</span>       <span style=\"color: #008080; text-decoration-color: #008080; font-weight: bold\">6</span>      <span style=\"color: #008080; text-decoration-color: #008080; font-weight: bold\">3</span>            <span style=\"color: #008080; text-decoration-color: #008080; font-weight: bold\">399</span>  \n",
              "<span style=\"color: #008080; text-decoration-color: #008080; font-weight: bold\">100</span>         <span style=\"color: #008080; text-decoration-color: #008080; font-weight: bold\">1350</span>       <span style=\"color: #008080; text-decoration-color: #008080; font-weight: bold\">6</span>      <span style=\"color: #008080; text-decoration-color: #008080; font-weight: bold\">5</span>            <span style=\"color: #008080; text-decoration-color: #008080; font-weight: bold\">390</span>  \n",
              "<span style=\"color: #008080; text-decoration-color: #008080; font-weight: bold\">158</span>         <span style=\"color: #008080; text-decoration-color: #008080; font-weight: bold\">1580</span>       <span style=\"color: #008080; text-decoration-color: #008080; font-weight: bold\">7</span>      <span style=\"color: #008080; text-decoration-color: #008080; font-weight: bold\">4</span>            <span style=\"color: #008080; text-decoration-color: #008080; font-weight: bold\">380</span>  \n",
              "<span style=\"color: #008080; text-decoration-color: #008080; font-weight: bold\">149</span>         <span style=\"color: #008080; text-decoration-color: #008080; font-weight: bold\">1400</span>       <span style=\"color: #008080; text-decoration-color: #008080; font-weight: bold\">7</span>      <span style=\"color: #008080; text-decoration-color: #008080; font-weight: bold\">4</span>            <span style=\"color: #008080; text-decoration-color: #008080; font-weight: bold\">135</span>  \n",
              "<span style=\"color: #008080; text-decoration-color: #008080; font-weight: bold\">123</span>         <span style=\"color: #008080; text-decoration-color: #008080; font-weight: bold\">1510</span>       <span style=\"color: #008080; text-decoration-color: #008080; font-weight: bold\">7</span>      <span style=\"color: #008080; text-decoration-color: #008080; font-weight: bold\">5</span>            <span style=\"color: #008080; text-decoration-color: #008080; font-weight: bold\">370</span>  \n",
              "<span style=\"color: #008080; text-decoration-color: #008080; font-weight: bold\">192</span>         <span style=\"color: #008080; text-decoration-color: #008080; font-weight: bold\">1750</span>       <span style=\"color: #008080; text-decoration-color: #008080; font-weight: bold\">7</span>      <span style=\"color: #008080; text-decoration-color: #008080; font-weight: bold\">2</span>            <span style=\"color: #008080; text-decoration-color: #008080; font-weight: bold\">150</span>  \n",
              "<span style=\"color: #008080; text-decoration-color: #008080; font-weight: bold\">56</span>          <span style=\"color: #008080; text-decoration-color: #008080; font-weight: bold\">1290</span>       <span style=\"color: #008080; text-decoration-color: #008080; font-weight: bold\">7</span>      <span style=\"color: #008080; text-decoration-color: #008080; font-weight: bold\">3</span>            <span style=\"color: #008080; text-decoration-color: #008080; font-weight: bold\">310</span>  \n",
              "<span style=\"color: #008080; text-decoration-color: #008080; font-weight: bold\">39</span>          <span style=\"color: #008080; text-decoration-color: #008080; font-weight: bold\">1500</span>       <span style=\"color: #008080; text-decoration-color: #008080; font-weight: bold\">7</span>      <span style=\"color: #008080; text-decoration-color: #008080; font-weight: bold\">4</span>            <span style=\"color: #008080; text-decoration-color: #008080; font-weight: bold\">346</span>  \n",
              "<span style=\"color: #008080; text-decoration-color: #008080; font-weight: bold\">25</span>          <span style=\"color: #008080; text-decoration-color: #008080; font-weight: bold\">1390</span>       <span style=\"color: #008080; text-decoration-color: #008080; font-weight: bold\">7</span>      <span style=\"color: #008080; text-decoration-color: #008080; font-weight: bold\">5</span>            <span style=\"color: #008080; text-decoration-color: #008080; font-weight: bold\">190</span>  \n",
              "<span style=\"color: #008080; text-decoration-color: #008080; font-weight: bold\">87</span>          <span style=\"color: #008080; text-decoration-color: #008080; font-weight: bold\">1600</span>       <span style=\"color: #008080; text-decoration-color: #008080; font-weight: bold\">7</span>      <span style=\"color: #008080; text-decoration-color: #008080; font-weight: bold\">5</span>            <span style=\"color: #008080; text-decoration-color: #008080; font-weight: bold\">240</span>  \n",
              "<span style=\"color: #008080; text-decoration-color: #008080; font-weight: bold\">69</span>          <span style=\"color: #008080; text-decoration-color: #008080; font-weight: bold\">1120</span>       <span style=\"color: #008080; text-decoration-color: #008080; font-weight: bold\">8</span>      <span style=\"color: #008080; text-decoration-color: #008080; font-weight: bold\">5</span>            <span style=\"color: #008080; text-decoration-color: #008080; font-weight: bold\">210</span>  \n",
              "<span style=\"color: #008080; text-decoration-color: #008080; font-weight: bold\">67</span>          <span style=\"color: #008080; text-decoration-color: #008080; font-weight: bold\">1000</span>       <span style=\"color: #008080; text-decoration-color: #008080; font-weight: bold\">8</span>      <span style=\"color: #008080; text-decoration-color: #008080; font-weight: bold\">3</span>            <span style=\"color: #008080; text-decoration-color: #008080; font-weight: bold\">120</span>  \n",
              "<span style=\"color: #008080; text-decoration-color: #008080; font-weight: bold\">27</span>           <span style=\"color: #008080; text-decoration-color: #008080; font-weight: bold\">970</span>       <span style=\"color: #008080; text-decoration-color: #008080; font-weight: bold\">8</span>      <span style=\"color: #008080; text-decoration-color: #008080; font-weight: bold\">5</span>            <span style=\"color: #008080; text-decoration-color: #008080; font-weight: bold\">148</span>  \n",
              "<span style=\"color: #008080; text-decoration-color: #008080; font-weight: bold\">86</span>          <span style=\"color: #008080; text-decoration-color: #008080; font-weight: bold\">1150</span>       <span style=\"color: #008080; text-decoration-color: #008080; font-weight: bold\">9</span>     <span style=\"color: #008080; text-decoration-color: #008080; font-weight: bold\">10</span>            <span style=\"color: #008080; text-decoration-color: #008080; font-weight: bold\">330</span>  \n",
              "<span style=\"color: #008080; text-decoration-color: #008080; font-weight: bold\">74</span>          <span style=\"color: #008080; text-decoration-color: #008080; font-weight: bold\">1511</span>       <span style=\"color: #008080; text-decoration-color: #008080; font-weight: bold\">9</span>      <span style=\"color: #008080; text-decoration-color: #008080; font-weight: bold\">5</span>            <span style=\"color: #008080; text-decoration-color: #008080; font-weight: bold\">261</span>  \n",
              "<span style=\"color: #008080; text-decoration-color: #008080; font-weight: bold\">180</span>         <span style=\"color: #008080; text-decoration-color: #008080; font-weight: bold\">2100</span>       <span style=\"color: #008080; text-decoration-color: #008080; font-weight: bold\">9</span>      <span style=\"color: #008080; text-decoration-color: #008080; font-weight: bold\">3</span>            <span style=\"color: #008080; text-decoration-color: #008080; font-weight: bold\">620</span>  \n",
              "<span style=\"color: #008080; text-decoration-color: #008080; font-weight: bold\">85</span>          <span style=\"color: #008080; text-decoration-color: #008080; font-weight: bold\">1850</span>       <span style=\"color: #008080; text-decoration-color: #008080; font-weight: bold\">9</span>      <span style=\"color: #008080; text-decoration-color: #008080; font-weight: bold\">7</span>            <span style=\"color: #008080; text-decoration-color: #008080; font-weight: bold\">550</span>  \n",
              "</pre>\n"
            ],
            "text/plain": [
              "                         Station  Price        Mountain  AltitudeDown  \\\n",
              "\u001b[1;36m166\u001b[0m           Saint Jean de Sixt     \u001b[1;36m40\u001b[0m   Alpes du Nord           \u001b[1;36m940\u001b[0m   \n",
              "\u001b[1;36m76\u001b[0m             La Grave la Meije    \u001b[1;36m258\u001b[0m    Alpes du Sud          \u001b[1;36m1450\u001b[0m   \n",
              "\u001b[1;36m20\u001b[0m                       Bessans     \u001b[1;36m51\u001b[0m   Alpes du Nord          \u001b[1;36m1740\u001b[0m   \n",
              "\u001b[1;36m90\u001b[0m          Le Desert dEntremont     \u001b[1;36m54\u001b[0m   Alpes du Nord          \u001b[1;36m1200\u001b[0m   \n",
              "\u001b[1;36m93\u001b[0m                    Le Granier     \u001b[1;36m54\u001b[0m   Alpes du Nord          \u001b[1;36m1000\u001b[0m   \n",
              "\u001b[1;36m73\u001b[0m         La Combe Saint Pierre     \u001b[1;36m60\u001b[0m            Jura           \u001b[1;36m880\u001b[0m   \n",
              "\u001b[1;36m77\u001b[0m            La Loge des Gardes     \u001b[1;36m50\u001b[0m  Massif central          \u001b[1;36m1000\u001b[0m   \n",
              "\u001b[1;36m185\u001b[0m          Turini Camp dArgent     \u001b[1;36m75\u001b[0m    Alpes du Sud          \u001b[1;36m1600\u001b[0m   \n",
              "\u001b[1;36m41\u001b[0m                  Col de Porte     \u001b[1;36m70\u001b[0m   Alpes du Nord          \u001b[1;36m1200\u001b[0m   \n",
              "\u001b[1;36m40\u001b[0m                Col de Marcieu     \u001b[1;36m65\u001b[0m   Alpes du Nord          \u001b[1;36m1000\u001b[0m   \n",
              "\u001b[1;36m135\u001b[0m  Montmin - Col de la Forclaz     \u001b[1;36m50\u001b[0m   Alpes du Nord          \u001b[1;36m1090\u001b[0m   \n",
              "\u001b[1;36m58\u001b[0m                       Goulier     \u001b[1;36m95\u001b[0m        Pyrénées          \u001b[1;36m1500\u001b[0m   \n",
              "\u001b[1;36m110\u001b[0m                  Les Coulmes     \u001b[1;36m45\u001b[0m   Alpes du Nord          \u001b[1;36m1064\u001b[0m   \n",
              "\u001b[1;36m100\u001b[0m      Le Sappey en Chartreuse     \u001b[1;36m60\u001b[0m   Alpes du Nord           \u001b[1;36m960\u001b[0m   \n",
              "\u001b[1;36m158\u001b[0m                        Romme     \u001b[1;36m60\u001b[0m   Alpes du Nord          \u001b[1;36m1200\u001b[0m   \n",
              "\u001b[1;36m149\u001b[0m                     Praboure     \u001b[1;36m50\u001b[0m  Massif central          \u001b[1;36m1265\u001b[0m   \n",
              "\u001b[1;36m123\u001b[0m              Lus la Jarjatte     \u001b[1;36m66\u001b[0m   Alpes du Nord          \u001b[1;36m1140\u001b[0m   \n",
              "\u001b[1;36m192\u001b[0m                   Val Pelens     \u001b[1;36m75\u001b[0m    Alpes du Sud          \u001b[1;36m1600\u001b[0m   \n",
              "\u001b[1;36m56\u001b[0m                  Gaschney \u001b[1;36m360\u001b[0m     \u001b[1;36m85\u001b[0m          Vosges           \u001b[1;36m980\u001b[0m   \n",
              "\u001b[1;36m39\u001b[0m              Col de lArzelier     \u001b[1;36m75\u001b[0m   Alpes du Nord          \u001b[1;36m1154\u001b[0m   \n",
              "\u001b[1;36m25\u001b[0m                     Brameloup     \u001b[1;36m70\u001b[0m  Massif central          \u001b[1;36m1200\u001b[0m   \n",
              "\u001b[1;36m87\u001b[0m     Le Bleymard - Mont Lozere     \u001b[1;36m65\u001b[0m  Massif central          \u001b[1;36m1360\u001b[0m   \n",
              "\u001b[1;36m69\u001b[0m             La Bresse Lispach     \u001b[1;36m97\u001b[0m          Vosges           \u001b[1;36m910\u001b[0m   \n",
              "\u001b[1;36m67\u001b[0m             La Bresse Brabant     \u001b[1;36m91\u001b[0m          Vosges           \u001b[1;36m880\u001b[0m   \n",
              "\u001b[1;36m27\u001b[0m          Bussang - Larcenaire     \u001b[1;36m87\u001b[0m          Vosges           \u001b[1;36m822\u001b[0m   \n",
              "\u001b[1;36m86\u001b[0m             Le Ballon dAlsace    \u001b[1;36m100\u001b[0m          Vosges           \u001b[1;36m820\u001b[0m   \n",
              "\u001b[1;36m74\u001b[0m            La Croix de Bauzon     \u001b[1;36m79\u001b[0m  Massif central          \u001b[1;36m1250\u001b[0m   \n",
              "\u001b[1;36m180\u001b[0m                 Serre Eyraud     \u001b[1;36m75\u001b[0m    Alpes du Sud          \u001b[1;36m1480\u001b[0m   \n",
              "\u001b[1;36m85\u001b[0m             Laye en Champsaur    \u001b[1;36m106\u001b[0m    Alpes du Sud          \u001b[1;36m1300\u001b[0m   \n",
              "\n",
              "     AltitudeTop  Slopes  Lifts  ElevationGain  \n",
              "\u001b[1;36m166\u001b[0m         \u001b[1;36m1000\u001b[0m       \u001b[1;36m1\u001b[0m      \u001b[1;36m1\u001b[0m             \u001b[1;36m60\u001b[0m  \n",
              "\u001b[1;36m76\u001b[0m          \u001b[1;36m3550\u001b[0m       \u001b[1;36m1\u001b[0m      \u001b[1;36m3\u001b[0m           \u001b[1;36m2100\u001b[0m  \n",
              "\u001b[1;36m20\u001b[0m          \u001b[1;36m2000\u001b[0m       \u001b[1;36m3\u001b[0m      \u001b[1;36m3\u001b[0m            \u001b[1;36m260\u001b[0m  \n",
              "\u001b[1;36m90\u001b[0m          \u001b[1;36m1400\u001b[0m       \u001b[1;36m3\u001b[0m      \u001b[1;36m3\u001b[0m            \u001b[1;36m200\u001b[0m  \n",
              "\u001b[1;36m93\u001b[0m          \u001b[1;36m1420\u001b[0m       \u001b[1;36m4\u001b[0m      \u001b[1;36m4\u001b[0m            \u001b[1;36m420\u001b[0m  \n",
              "\u001b[1;36m73\u001b[0m          \u001b[1;36m1035\u001b[0m       \u001b[1;36m4\u001b[0m      \u001b[1;36m4\u001b[0m            \u001b[1;36m155\u001b[0m  \n",
              "\u001b[1;36m77\u001b[0m          \u001b[1;36m1160\u001b[0m       \u001b[1;36m4\u001b[0m      \u001b[1;36m4\u001b[0m            \u001b[1;36m160\u001b[0m  \n",
              "\u001b[1;36m185\u001b[0m         \u001b[1;36m1920\u001b[0m       \u001b[1;36m4\u001b[0m      \u001b[1;36m3\u001b[0m            \u001b[1;36m320\u001b[0m  \n",
              "\u001b[1;36m41\u001b[0m          \u001b[1;36m1650\u001b[0m       \u001b[1;36m5\u001b[0m      \u001b[1;36m5\u001b[0m            \u001b[1;36m450\u001b[0m  \n",
              "\u001b[1;36m40\u001b[0m          \u001b[1;36m1400\u001b[0m       \u001b[1;36m6\u001b[0m      \u001b[1;36m6\u001b[0m            \u001b[1;36m400\u001b[0m  \n",
              "\u001b[1;36m135\u001b[0m         \u001b[1;36m1180\u001b[0m       \u001b[1;36m6\u001b[0m      \u001b[1;36m3\u001b[0m             \u001b[1;36m90\u001b[0m  \n",
              "\u001b[1;36m58\u001b[0m          \u001b[1;36m1850\u001b[0m       \u001b[1;36m6\u001b[0m      \u001b[1;36m4\u001b[0m            \u001b[1;36m350\u001b[0m  \n",
              "\u001b[1;36m110\u001b[0m         \u001b[1;36m1463\u001b[0m       \u001b[1;36m6\u001b[0m      \u001b[1;36m3\u001b[0m            \u001b[1;36m399\u001b[0m  \n",
              "\u001b[1;36m100\u001b[0m         \u001b[1;36m1350\u001b[0m       \u001b[1;36m6\u001b[0m      \u001b[1;36m5\u001b[0m            \u001b[1;36m390\u001b[0m  \n",
              "\u001b[1;36m158\u001b[0m         \u001b[1;36m1580\u001b[0m       \u001b[1;36m7\u001b[0m      \u001b[1;36m4\u001b[0m            \u001b[1;36m380\u001b[0m  \n",
              "\u001b[1;36m149\u001b[0m         \u001b[1;36m1400\u001b[0m       \u001b[1;36m7\u001b[0m      \u001b[1;36m4\u001b[0m            \u001b[1;36m135\u001b[0m  \n",
              "\u001b[1;36m123\u001b[0m         \u001b[1;36m1510\u001b[0m       \u001b[1;36m7\u001b[0m      \u001b[1;36m5\u001b[0m            \u001b[1;36m370\u001b[0m  \n",
              "\u001b[1;36m192\u001b[0m         \u001b[1;36m1750\u001b[0m       \u001b[1;36m7\u001b[0m      \u001b[1;36m2\u001b[0m            \u001b[1;36m150\u001b[0m  \n",
              "\u001b[1;36m56\u001b[0m          \u001b[1;36m1290\u001b[0m       \u001b[1;36m7\u001b[0m      \u001b[1;36m3\u001b[0m            \u001b[1;36m310\u001b[0m  \n",
              "\u001b[1;36m39\u001b[0m          \u001b[1;36m1500\u001b[0m       \u001b[1;36m7\u001b[0m      \u001b[1;36m4\u001b[0m            \u001b[1;36m346\u001b[0m  \n",
              "\u001b[1;36m25\u001b[0m          \u001b[1;36m1390\u001b[0m       \u001b[1;36m7\u001b[0m      \u001b[1;36m5\u001b[0m            \u001b[1;36m190\u001b[0m  \n",
              "\u001b[1;36m87\u001b[0m          \u001b[1;36m1600\u001b[0m       \u001b[1;36m7\u001b[0m      \u001b[1;36m5\u001b[0m            \u001b[1;36m240\u001b[0m  \n",
              "\u001b[1;36m69\u001b[0m          \u001b[1;36m1120\u001b[0m       \u001b[1;36m8\u001b[0m      \u001b[1;36m5\u001b[0m            \u001b[1;36m210\u001b[0m  \n",
              "\u001b[1;36m67\u001b[0m          \u001b[1;36m1000\u001b[0m       \u001b[1;36m8\u001b[0m      \u001b[1;36m3\u001b[0m            \u001b[1;36m120\u001b[0m  \n",
              "\u001b[1;36m27\u001b[0m           \u001b[1;36m970\u001b[0m       \u001b[1;36m8\u001b[0m      \u001b[1;36m5\u001b[0m            \u001b[1;36m148\u001b[0m  \n",
              "\u001b[1;36m86\u001b[0m          \u001b[1;36m1150\u001b[0m       \u001b[1;36m9\u001b[0m     \u001b[1;36m10\u001b[0m            \u001b[1;36m330\u001b[0m  \n",
              "\u001b[1;36m74\u001b[0m          \u001b[1;36m1511\u001b[0m       \u001b[1;36m9\u001b[0m      \u001b[1;36m5\u001b[0m            \u001b[1;36m261\u001b[0m  \n",
              "\u001b[1;36m180\u001b[0m         \u001b[1;36m2100\u001b[0m       \u001b[1;36m9\u001b[0m      \u001b[1;36m3\u001b[0m            \u001b[1;36m620\u001b[0m  \n",
              "\u001b[1;36m85\u001b[0m          \u001b[1;36m1850\u001b[0m       \u001b[1;36m9\u001b[0m      \u001b[1;36m7\u001b[0m            \u001b[1;36m550\u001b[0m  \n"
            ]
          },
          "metadata": {},
          "output_type": "display_data"
        },
        {
          "data": {
            "text/html": [
              "<pre style=\"white-space:pre;overflow-x:auto;line-height:normal;font-family:Menlo,'DejaVu Sans Mono',consolas,'Courier New',monospace\"></pre>\n"
            ],
            "text/plain": []
          },
          "metadata": {},
          "output_type": "display_data"
        },
        {
          "data": {
            "text/html": [
              "<div>\n",
              "<style scoped>\n",
              "    .dataframe tbody tr th:only-of-type {\n",
              "        vertical-align: middle;\n",
              "    }\n",
              "\n",
              "    .dataframe tbody tr th {\n",
              "        vertical-align: top;\n",
              "    }\n",
              "\n",
              "    .dataframe thead th {\n",
              "        text-align: right;\n",
              "    }\n",
              "</style>\n",
              "<table border=\"1\" class=\"dataframe\">\n",
              "  <thead>\n",
              "    <tr style=\"text-align: right;\">\n",
              "      <th></th>\n",
              "      <th>Price</th>\n",
              "      <th>AltitudeDown</th>\n",
              "      <th>AltitudeTop</th>\n",
              "      <th>Slopes</th>\n",
              "      <th>Lifts</th>\n",
              "      <th>ElevationGain</th>\n",
              "    </tr>\n",
              "  </thead>\n",
              "  <tbody>\n",
              "    <tr>\n",
              "      <th>count</th>\n",
              "      <td>29.000000</td>\n",
              "      <td>29.000000</td>\n",
              "      <td>29.000000</td>\n",
              "      <td>29.000000</td>\n",
              "      <td>29.000000</td>\n",
              "      <td>29.000000</td>\n",
              "    </tr>\n",
              "    <tr>\n",
              "      <th>mean</th>\n",
              "      <td>76.137931</td>\n",
              "      <td>1171.896552</td>\n",
              "      <td>1520.655172</td>\n",
              "      <td>6.034483</td>\n",
              "      <td>4.172414</td>\n",
              "      <td>348.758621</td>\n",
              "    </tr>\n",
              "    <tr>\n",
              "      <th>std</th>\n",
              "      <td>39.143257</td>\n",
              "      <td>251.283611</td>\n",
              "      <td>497.193644</td>\n",
              "      <td>2.243765</td>\n",
              "      <td>1.670521</td>\n",
              "      <td>363.639702</td>\n",
              "    </tr>\n",
              "    <tr>\n",
              "      <th>min</th>\n",
              "      <td>40.000000</td>\n",
              "      <td>820.000000</td>\n",
              "      <td>970.000000</td>\n",
              "      <td>1.000000</td>\n",
              "      <td>1.000000</td>\n",
              "      <td>60.000000</td>\n",
              "    </tr>\n",
              "    <tr>\n",
              "      <th>25%</th>\n",
              "      <td>54.000000</td>\n",
              "      <td>980.000000</td>\n",
              "      <td>1180.000000</td>\n",
              "      <td>4.000000</td>\n",
              "      <td>3.000000</td>\n",
              "      <td>160.000000</td>\n",
              "    </tr>\n",
              "    <tr>\n",
              "      <th>50%</th>\n",
              "      <td>70.000000</td>\n",
              "      <td>1154.000000</td>\n",
              "      <td>1420.000000</td>\n",
              "      <td>7.000000</td>\n",
              "      <td>4.000000</td>\n",
              "      <td>310.000000</td>\n",
              "    </tr>\n",
              "    <tr>\n",
              "      <th>75%</th>\n",
              "      <td>85.000000</td>\n",
              "      <td>1300.000000</td>\n",
              "      <td>1650.000000</td>\n",
              "      <td>7.000000</td>\n",
              "      <td>5.000000</td>\n",
              "      <td>390.000000</td>\n",
              "    </tr>\n",
              "    <tr>\n",
              "      <th>max</th>\n",
              "      <td>258.000000</td>\n",
              "      <td>1740.000000</td>\n",
              "      <td>3550.000000</td>\n",
              "      <td>9.000000</td>\n",
              "      <td>10.000000</td>\n",
              "      <td>2100.000000</td>\n",
              "    </tr>\n",
              "  </tbody>\n",
              "</table>\n",
              "</div>"
            ],
            "text/plain": [
              "\n",
              "            Price  AltitudeDown  AltitudeTop     Slopes      Lifts  \\\n",
              "count   \u001b[1;36m29.000000\u001b[0m     \u001b[1;36m29.000000\u001b[0m    \u001b[1;36m29.000000\u001b[0m  \u001b[1;36m29.000000\u001b[0m  \u001b[1;36m29.000000\u001b[0m   \n",
              "mean    \u001b[1;36m76.137931\u001b[0m   \u001b[1;36m1171.896552\u001b[0m  \u001b[1;36m1520.655172\u001b[0m   \u001b[1;36m6.034483\u001b[0m   \u001b[1;36m4.172414\u001b[0m   \n",
              "std     \u001b[1;36m39.143257\u001b[0m    \u001b[1;36m251.283611\u001b[0m   \u001b[1;36m497.193644\u001b[0m   \u001b[1;36m2.243765\u001b[0m   \u001b[1;36m1.670521\u001b[0m   \n",
              "min     \u001b[1;36m40.000000\u001b[0m    \u001b[1;36m820.000000\u001b[0m   \u001b[1;36m970.000000\u001b[0m   \u001b[1;36m1.000000\u001b[0m   \u001b[1;36m1.000000\u001b[0m   \n",
              "\u001b[1;36m25\u001b[0m%     \u001b[1;36m54.000000\u001b[0m    \u001b[1;36m980.000000\u001b[0m  \u001b[1;36m1180.000000\u001b[0m   \u001b[1;36m4.000000\u001b[0m   \u001b[1;36m3.000000\u001b[0m   \n",
              "\u001b[1;36m50\u001b[0m%     \u001b[1;36m70.000000\u001b[0m   \u001b[1;36m1154.000000\u001b[0m  \u001b[1;36m1420.000000\u001b[0m   \u001b[1;36m7.000000\u001b[0m   \u001b[1;36m4.000000\u001b[0m   \n",
              "\u001b[1;36m75\u001b[0m%     \u001b[1;36m85.000000\u001b[0m   \u001b[1;36m1300.000000\u001b[0m  \u001b[1;36m1650.000000\u001b[0m   \u001b[1;36m7.000000\u001b[0m   \u001b[1;36m5.000000\u001b[0m   \n",
              "max    \u001b[1;36m258.000000\u001b[0m   \u001b[1;36m1740.000000\u001b[0m  \u001b[1;36m3550.000000\u001b[0m   \u001b[1;36m9.000000\u001b[0m  \u001b[1;36m10.000000\u001b[0m   \n",
              "\n",
              "       ElevationGain  \n",
              "count      \u001b[1;36m29.000000\u001b[0m  \n",
              "mean      \u001b[1;36m348.758621\u001b[0m  \n",
              "std       \u001b[1;36m363.639702\u001b[0m  \n",
              "min        \u001b[1;36m60.000000\u001b[0m  \n",
              "\u001b[1;36m25\u001b[0m%       \u001b[1;36m160.000000\u001b[0m  \n",
              "\u001b[1;36m50\u001b[0m%       \u001b[1;36m310.000000\u001b[0m  \n",
              "\u001b[1;36m75\u001b[0m%       \u001b[1;36m390.000000\u001b[0m  \n",
              "max      \u001b[1;36m2100.000000\u001b[0m  "
            ]
          },
          "execution_count": 13,
          "metadata": {},
          "output_type": "execute_result"
        }
      ],
      "source": [
        "df_ski[\"ElevationGain\"] = df_ski['AltitudeTop'] - df_ski['AltitudeDown']\n",
        "\n",
        "df_ski[df_ski[\"ElevationGain\"] <= 150]\n",
        "\n",
        "\n",
        "df_ski.describe()\n",
        "\n",
        "from loguru import logger\n",
        "from rich import console,print,pretty\n",
        "pretty.install()\n",
        "\n",
        "slopesMask = df_ski[df_ski[\"Slopes\"] < 10]\n",
        "\n",
        "sortedMask = slopesMask.sort_values(by=\"Slopes\",ascending= True)\n",
        "\n",
        "logger.info(\"Les sorted masked stations \\n\")\n",
        "print(sortedMask)\n",
        "slopesMask.describe()\n",
        "\n",
        "\n"
      ]
    },
    {
      "cell_type": "code",
      "execution_count": 17,
      "metadata": {},
      "outputs": [
        {
          "data": {
            "text/html": [
              "<pre style=\"white-space:pre;overflow-x:auto;line-height:normal;font-family:Menlo,'DejaVu Sans Mono',consolas,'Courier New',monospace\"></pre>\n"
            ],
            "text/plain": []
          },
          "metadata": {},
          "output_type": "display_data"
        },
        {
          "data": {
            "text/plain": [
              "\u001b[1;36m36\u001b[0m"
            ]
          },
          "execution_count": 17,
          "metadata": {},
          "output_type": "execute_result"
        }
      ],
      "source": [
        "int((df_ski[\"Slopes\"] <=10).sum())"
      ]
    },
    {
      "cell_type": "markdown",
      "metadata": {
        "id": "kvmgNqRrBnAC"
      },
      "source": [
        "## Extracting rows and columns."
      ]
    },
    {
      "cell_type": "code",
      "execution_count": null,
      "metadata": {
        "id": "jog77TrPBtgS"
      },
      "outputs": [],
      "source": [
        "# We have already seen how to extract specific columns, by specifying a list (between backets) of the relevant variables\n",
        "# For instance,\n",
        "\n",
        "\n",
        "df_ski[['Mountain','AltitudeTop']]"
      ]
    },
    {
      "cell_type": "markdown",
      "metadata": {
        "id": "tz_PrT8RBsQC"
      },
      "source": [
        "To extract *simultaneously* rows and columns, we use the following approach.\n",
        "\n",
        "* Assume that we are given a mask on the rows `row_mask`\n",
        "* Assume that we are given a mask on the columns `column_mask`\n",
        "\n",
        "We can select the corresponding observations (rows) and variables (columns) using the following command:\n",
        "\n",
        "`df_ski.loc[row_mask,column_mask]`"
      ]
    },
    {
      "cell_type": "markdown",
      "metadata": {
        "id": "Y8usjv3zMdx6"
      },
      "source": [
        "To illustrate, we will create a new variable `Range`, grouping the mountains together into only three possible categories: Alpes, Pyrénées and older (and lower) mountains.\n",
        "\n",
        "* `Range = Alpes` **if** `Mountain = Alpes du Nord`, or `Mountain = Alpes du Sud`\n",
        "* `Range=Other` **if** `Mountain = Massif Central`, or `Mountain = Vosges` or `Mountain = Jura`\n",
        "* `Range = Pyrenees` **if** `Mountain = Pyrenees`"
      ]
    },
    {
      "cell_type": "markdown",
      "metadata": {
        "id": "ZXBzBPv4NNFl"
      },
      "source": [
        "To do this, we first create this new column by setting all values equal to the default value *Other*, next change this value to Pyrénées/Alpes whenever relevant.\n"
      ]
    },
    {
      "cell_type": "code",
      "execution_count": null,
      "metadata": {
        "id": "vOk3FGLZZE50"
      },
      "outputs": [],
      "source": [
        "df_ski['Range'] = 'Other'\n",
        "\n",
        "# For stations in the Pyrénées, we change this variable to Pyrénées\n",
        "row_mask = (df_ski['Mountain'] == 'Pyrénées')\n",
        "df_ski.loc[row_mask,'Range'] = 'Pyrénées'\n",
        "\n",
        "# For stations in the Alpes, we change it to Alpes\n",
        "row_mask = (df_ski['Mountain'] == 'Alpes du Nord') | (df_ski['Mountain'] == 'Alpes du Sud')\n",
        "df_ski.loc[row_mask,'Range'] = 'Alpes'"
      ]
    },
    {
      "cell_type": "code",
      "execution_count": null,
      "metadata": {
        "id": "b7LndWxmZm70"
      },
      "outputs": [],
      "source": [
        "# Outcome:\n",
        "df_ski"
      ]
    },
    {
      "cell_type": "code",
      "execution_count": null,
      "metadata": {
        "id": "hxrc2FTYZqgo"
      },
      "outputs": [],
      "source": [
        "# We do not see much, let's sample stations at random:\n",
        "df_ski.sample(10)"
      ]
    },
    {
      "cell_type": "markdown",
      "metadata": {
        "id": "uBaZ9jEFXsU4"
      },
      "source": [
        "# **Part 2: Improving scatterplots**"
      ]
    },
    {
      "cell_type": "markdown",
      "metadata": {
        "id": "oYZuELAKpT9j"
      },
      "source": [
        "Last time, we produced a scatterplot to visualize the relation between prices and slope numbers (see next cell). We noticed that the presence of outliers makes it difficult to visualize this relation."
      ]
    },
    {
      "cell_type": "code",
      "execution_count": null,
      "metadata": {
        "id": "pQi908qgpgav"
      },
      "outputs": [],
      "source": [
        "df_ski.plot(x='Slopes', y='Price', kind='scatter')"
      ]
    },
    {
      "cell_type": "markdown",
      "metadata": {
        "id": "RBhcywb7MBko"
      },
      "source": [
        "We here apply the tools we have just introduced to improve such a graph."
      ]
    },
    {
      "cell_type": "markdown",
      "metadata": {
        "id": "Ncpby7d0b89c"
      },
      "source": [
        "### Method 1: suppressing outliers in a scatterplot"
      ]
    },
    {
      "cell_type": "code",
      "execution_count": null,
      "metadata": {
        "id": "-ws6vnffaub8"
      },
      "outputs": [],
      "source": [
        "# Seaborn syntax:\n",
        "sns.scatterplot(data=df_ski[df_ski['Slopes']<200], x='Slopes', y='Price')"
      ]
    },
    {
      "cell_type": "markdown",
      "metadata": {
        "id": "QZT_5HvhybW6"
      },
      "source": [
        "### Method 2: Transforming the variables"
      ]
    },
    {
      "cell_type": "markdown",
      "metadata": {
        "id": "jbvKkWbfqCNZ"
      },
      "source": [
        "The above scatterplot points to a clear association between the number of slopes and the price, but not to a linear relation.\n",
        "\n",
        "In such cases, one may try and transform existing variables in the hope that simpler relations appear. Here, a logarithm looks suitable:"
      ]
    },
    {
      "cell_type": "code",
      "execution_count": null,
      "metadata": {
        "id": "j8pkh0qtbkmE"
      },
      "outputs": [],
      "source": [
        "# We import the numpy library for scientific computations\n",
        "# The logarithm function is np.log\n",
        "import numpy as np\n",
        "\n",
        "np.log(2)"
      ]
    },
    {
      "cell_type": "code",
      "execution_count": null,
      "metadata": {
        "id": "D5J37hiaDK9J"
      },
      "outputs": [],
      "source": [
        "df_ski['LnSlopes']= np.log(df_ski['Slopes'])\n",
        "df_ski"
      ]
    },
    {
      "cell_type": "code",
      "execution_count": null,
      "metadata": {
        "id": "tbapUMHieIEJ"
      },
      "outputs": [],
      "source": [
        "# Now the association looks linear!\n",
        "sns.scatterplot(data=df_ski[df_ski['Slopes']<200], x='LnSlopes', y='Price')"
      ]
    },
    {
      "cell_type": "markdown",
      "metadata": {
        "id": "6vWPuOH78cMY"
      },
      "source": [
        "### Method 3: Colorings points by a categorical variable"
      ]
    },
    {
      "cell_type": "markdown",
      "metadata": {
        "id": "EqxRWp0pyjc0"
      },
      "source": [
        "The above plot show a relation between the logarithm of the number of slopes and the price. How does this relation depend on the mountain of the station?"
      ]
    },
    {
      "cell_type": "code",
      "execution_count": null,
      "metadata": {
        "id": "CBdv7dROyUKs"
      },
      "outputs": [],
      "source": [
        "sns.scatterplot(data=df_ski[df_ski['Slopes']<200], x='LnSlopes', y='Price',hue = 'Mountain')"
      ]
    },
    {
      "cell_type": "code",
      "execution_count": 29,
      "metadata": {
        "id": "0-RcYfKFdm5y"
      },
      "outputs": [
        {
          "data": {
            "text/html": [
              "<pre style=\"white-space:pre;overflow-x:auto;line-height:normal;font-family:Menlo,'DejaVu Sans Mono',consolas,'Courier New',monospace\"></pre>\n"
            ],
            "text/plain": []
          },
          "metadata": {},
          "output_type": "display_data"
        },
        {
          "data": {
            "text/html": [
              "<div>\n",
              "<style scoped>\n",
              "    .dataframe tbody tr th:only-of-type {\n",
              "        vertical-align: middle;\n",
              "    }\n",
              "\n",
              "    .dataframe tbody tr th {\n",
              "        vertical-align: top;\n",
              "    }\n",
              "\n",
              "    .dataframe thead th {\n",
              "        text-align: right;\n",
              "    }\n",
              "</style>\n",
              "<table border=\"1\" class=\"dataframe\">\n",
              "  <thead>\n",
              "    <tr style=\"text-align: right;\">\n",
              "      <th></th>\n",
              "      <th>Station</th>\n",
              "      <th>Price</th>\n",
              "      <th>Mountain</th>\n",
              "      <th>AltitudeDown</th>\n",
              "      <th>AltitudeTop</th>\n",
              "      <th>Slopes</th>\n",
              "      <th>Lifts</th>\n",
              "      <th>ElevationGain</th>\n",
              "      <th>Range</th>\n",
              "      <th>LnSlopes</th>\n",
              "    </tr>\n",
              "  </thead>\n",
              "  <tbody>\n",
              "    <tr>\n",
              "      <th>51</th>\n",
              "      <td>Flaine</td>\n",
              "      <td>246</td>\n",
              "      <td>Alpes du Nord</td>\n",
              "      <td>1600</td>\n",
              "      <td>2500</td>\n",
              "      <td>64</td>\n",
              "      <td>24</td>\n",
              "      <td>900</td>\n",
              "      <td>Alpes</td>\n",
              "      <td>4.158883</td>\n",
              "    </tr>\n",
              "    <tr>\n",
              "      <th>190</th>\n",
              "      <td>Val dIsere</td>\n",
              "      <td>285</td>\n",
              "      <td>Alpes du Nord</td>\n",
              "      <td>1850</td>\n",
              "      <td>3456</td>\n",
              "      <td>76</td>\n",
              "      <td>42</td>\n",
              "      <td>1606</td>\n",
              "      <td>Alpes</td>\n",
              "      <td>4.330733</td>\n",
              "    </tr>\n",
              "    <tr>\n",
              "      <th>67</th>\n",
              "      <td>La Bresse Brabant</td>\n",
              "      <td>91</td>\n",
              "      <td>Vosges</td>\n",
              "      <td>880</td>\n",
              "      <td>1000</td>\n",
              "      <td>8</td>\n",
              "      <td>3</td>\n",
              "      <td>120</td>\n",
              "      <td>Vosges</td>\n",
              "      <td>2.079442</td>\n",
              "    </tr>\n",
              "    <tr>\n",
              "      <th>121</th>\n",
              "      <td>Les Saisies</td>\n",
              "      <td>185</td>\n",
              "      <td>Alpes du Nord</td>\n",
              "      <td>1150</td>\n",
              "      <td>2069</td>\n",
              "      <td>61</td>\n",
              "      <td>31</td>\n",
              "      <td>919</td>\n",
              "      <td>Alpes</td>\n",
              "      <td>4.110874</td>\n",
              "    </tr>\n",
              "    <tr>\n",
              "      <th>136</th>\n",
              "      <td>Montriond</td>\n",
              "      <td>255</td>\n",
              "      <td>Alpes du Nord</td>\n",
              "      <td>970</td>\n",
              "      <td>2350</td>\n",
              "      <td>50</td>\n",
              "      <td>34</td>\n",
              "      <td>1380</td>\n",
              "      <td>Alpes</td>\n",
              "      <td>3.912023</td>\n",
              "    </tr>\n",
              "    <tr>\n",
              "      <th>35</th>\n",
              "      <td>Champagny en Vanoise</td>\n",
              "      <td>265</td>\n",
              "      <td>Alpes du Nord</td>\n",
              "      <td>1250</td>\n",
              "      <td>3250</td>\n",
              "      <td>134</td>\n",
              "      <td>74</td>\n",
              "      <td>2000</td>\n",
              "      <td>Alpes</td>\n",
              "      <td>4.897840</td>\n",
              "    </tr>\n",
              "    <tr>\n",
              "      <th>46</th>\n",
              "      <td>Courchevel</td>\n",
              "      <td>256</td>\n",
              "      <td>Alpes du Nord</td>\n",
              "      <td>1350</td>\n",
              "      <td>2738</td>\n",
              "      <td>100</td>\n",
              "      <td>52</td>\n",
              "      <td>1388</td>\n",
              "      <td>Alpes</td>\n",
              "      <td>4.605170</td>\n",
              "    </tr>\n",
              "    <tr>\n",
              "      <th>87</th>\n",
              "      <td>Le Bleymard - Mont Lozere</td>\n",
              "      <td>65</td>\n",
              "      <td>Massif central</td>\n",
              "      <td>1360</td>\n",
              "      <td>1600</td>\n",
              "      <td>7</td>\n",
              "      <td>5</td>\n",
              "      <td>240</td>\n",
              "      <td>Massif</td>\n",
              "      <td>1.945910</td>\n",
              "    </tr>\n",
              "    <tr>\n",
              "      <th>144</th>\n",
              "      <td>Peisey Vallandry</td>\n",
              "      <td>265</td>\n",
              "      <td>Alpes du Nord</td>\n",
              "      <td>1650</td>\n",
              "      <td>3250</td>\n",
              "      <td>128</td>\n",
              "      <td>54</td>\n",
              "      <td>1600</td>\n",
              "      <td>Alpes</td>\n",
              "      <td>4.852030</td>\n",
              "    </tr>\n",
              "    <tr>\n",
              "      <th>2</th>\n",
              "      <td>Aillons Margeriaz</td>\n",
              "      <td>115</td>\n",
              "      <td>Alpes du Nord</td>\n",
              "      <td>1000</td>\n",
              "      <td>1900</td>\n",
              "      <td>40</td>\n",
              "      <td>18</td>\n",
              "      <td>900</td>\n",
              "      <td>Alpes</td>\n",
              "      <td>3.688879</td>\n",
              "    </tr>\n",
              "  </tbody>\n",
              "</table>\n",
              "</div>"
            ],
            "text/plain": [
              "\n",
              "                       Station  Price        Mountain  AltitudeDown  \\\n",
              "\u001b[1;36m51\u001b[0m                      Flaine    \u001b[1;36m246\u001b[0m   Alpes du Nord          \u001b[1;36m1600\u001b[0m   \n",
              "\u001b[1;36m190\u001b[0m                 Val dIsere    \u001b[1;36m285\u001b[0m   Alpes du Nord          \u001b[1;36m1850\u001b[0m   \n",
              "\u001b[1;36m67\u001b[0m           La Bresse Brabant     \u001b[1;36m91\u001b[0m          Vosges           \u001b[1;36m880\u001b[0m   \n",
              "\u001b[1;36m121\u001b[0m                Les Saisies    \u001b[1;36m185\u001b[0m   Alpes du Nord          \u001b[1;36m1150\u001b[0m   \n",
              "\u001b[1;36m136\u001b[0m                  Montriond    \u001b[1;36m255\u001b[0m   Alpes du Nord           \u001b[1;36m970\u001b[0m   \n",
              "\u001b[1;36m35\u001b[0m        Champagny en Vanoise    \u001b[1;36m265\u001b[0m   Alpes du Nord          \u001b[1;36m1250\u001b[0m   \n",
              "\u001b[1;36m46\u001b[0m                  Courchevel    \u001b[1;36m256\u001b[0m   Alpes du Nord          \u001b[1;36m1350\u001b[0m   \n",
              "\u001b[1;36m87\u001b[0m   Le Bleymard - Mont Lozere     \u001b[1;36m65\u001b[0m  Massif central          \u001b[1;36m1360\u001b[0m   \n",
              "\u001b[1;36m144\u001b[0m           Peisey Vallandry    \u001b[1;36m265\u001b[0m   Alpes du Nord          \u001b[1;36m1650\u001b[0m   \n",
              "\u001b[1;36m2\u001b[0m            Aillons Margeriaz    \u001b[1;36m115\u001b[0m   Alpes du Nord          \u001b[1;36m1000\u001b[0m   \n",
              "\n",
              "     AltitudeTop  Slopes  Lifts  ElevationGain   Range  LnSlopes  \n",
              "\u001b[1;36m51\u001b[0m          \u001b[1;36m2500\u001b[0m      \u001b[1;36m64\u001b[0m     \u001b[1;36m24\u001b[0m            \u001b[1;36m900\u001b[0m   Alpes  \u001b[1;36m4.158883\u001b[0m  \n",
              "\u001b[1;36m190\u001b[0m         \u001b[1;36m3456\u001b[0m      \u001b[1;36m76\u001b[0m     \u001b[1;36m42\u001b[0m           \u001b[1;36m1606\u001b[0m   Alpes  \u001b[1;36m4.330733\u001b[0m  \n",
              "\u001b[1;36m67\u001b[0m          \u001b[1;36m1000\u001b[0m       \u001b[1;36m8\u001b[0m      \u001b[1;36m3\u001b[0m            \u001b[1;36m120\u001b[0m  Vosges  \u001b[1;36m2.079442\u001b[0m  \n",
              "\u001b[1;36m121\u001b[0m         \u001b[1;36m2069\u001b[0m      \u001b[1;36m61\u001b[0m     \u001b[1;36m31\u001b[0m            \u001b[1;36m919\u001b[0m   Alpes  \u001b[1;36m4.110874\u001b[0m  \n",
              "\u001b[1;36m136\u001b[0m         \u001b[1;36m2350\u001b[0m      \u001b[1;36m50\u001b[0m     \u001b[1;36m34\u001b[0m           \u001b[1;36m1380\u001b[0m   Alpes  \u001b[1;36m3.912023\u001b[0m  \n",
              "\u001b[1;36m35\u001b[0m          \u001b[1;36m3250\u001b[0m     \u001b[1;36m134\u001b[0m     \u001b[1;36m74\u001b[0m           \u001b[1;36m2000\u001b[0m   Alpes  \u001b[1;36m4.897840\u001b[0m  \n",
              "\u001b[1;36m46\u001b[0m          \u001b[1;36m2738\u001b[0m     \u001b[1;36m100\u001b[0m     \u001b[1;36m52\u001b[0m           \u001b[1;36m1388\u001b[0m   Alpes  \u001b[1;36m4.605170\u001b[0m  \n",
              "\u001b[1;36m87\u001b[0m          \u001b[1;36m1600\u001b[0m       \u001b[1;36m7\u001b[0m      \u001b[1;36m5\u001b[0m            \u001b[1;36m240\u001b[0m  Massif  \u001b[1;36m1.945910\u001b[0m  \n",
              "\u001b[1;36m144\u001b[0m         \u001b[1;36m3250\u001b[0m     \u001b[1;36m128\u001b[0m     \u001b[1;36m54\u001b[0m           \u001b[1;36m1600\u001b[0m   Alpes  \u001b[1;36m4.852030\u001b[0m  \n",
              "\u001b[1;36m2\u001b[0m           \u001b[1;36m1900\u001b[0m      \u001b[1;36m40\u001b[0m     \u001b[1;36m18\u001b[0m            \u001b[1;36m900\u001b[0m   Alpes  \u001b[1;36m3.688879\u001b[0m  "
            ]
          },
          "execution_count": 29,
          "metadata": {},
          "output_type": "execute_result"
        },
        {
          "data": {
            "text/html": [
              "<pre style=\"white-space:pre;overflow-x:auto;line-height:normal;font-family:Menlo,'DejaVu Sans Mono',consolas,'Courier New',monospace\"></pre>\n"
            ],
            "text/plain": []
          },
          "metadata": {},
          "output_type": "display_data"
        },
        {
          "data": {
            "image/png": "[encoded data removed]",
            "text/plain": [
              "\u001b[1m<\u001b[0m\u001b[1;95mFigure\u001b[0m\u001b[39m size 64\u001b[0m\u001b[1;36m0x480\u001b[0m\u001b[39m with \u001b[0m\u001b[1;36m1\u001b[0m\u001b[39m Axes\u001b[0m\u001b[1m>\u001b[0m"
            ]
          },
          "metadata": {},
          "output_type": "display_data"
        }
      ],
      "source": [
        "# There are simply too many colors in the previous plot.\n",
        "# To improve upon it, we use instead the type of mountain\n",
        "import numpy as np\n",
        "\n",
        "\n",
        "df_ski[\"Range\"] = df_ski['Mountain'].apply(lambda x: x.split(\" \")[0])\n",
        "df_ski[\"LnSlopes\"]= np.log(df_ski['Slopes'])\n",
        "\n",
        "sns.scatterplot(data=df_ski[df_ski['Slopes']<200], x='LnSlopes', y='Price', hue='Range')\n",
        "# This is much more readable than when using all the different mountains!\n",
        "\n",
        "df_ski.sample(10)\n"
      ]
    },
    {
      "cell_type": "markdown",
      "metadata": {
        "id": "UycnWvUghzia"
      },
      "source": [
        "## Exercise 2\n",
        "\n",
        "1. Is **AltitudeDown** influential for the **Price**? Answer based on a well-chosen picture.\n",
        "\n",
        "2. Do some mountain ranges offer better deals in terms of prices for elevation gain ?"
      ]
    },
    {
      "cell_type": "code",
      "execution_count": 34,
      "metadata": {},
      "outputs": [
        {
          "data": {
            "text/html": [
              "<pre style=\"white-space:pre;overflow-x:auto;line-height:normal;font-family:Menlo,'DejaVu Sans Mono',consolas,'Courier New',monospace\"></pre>\n"
            ],
            "text/plain": []
          },
          "metadata": {},
          "output_type": "display_data"
        },
        {
          "data": {
            "text/plain": [
              "\u001b[1m(\u001b[0m\u001b[1;35marray\u001b[0m\u001b[1m(\u001b[0m\u001b[1m[\u001b[0m\u001b[1m[\u001b[0m\u001b[1;36m0.04610749\u001b[0m\u001b[1m]\u001b[0m\u001b[1m]\u001b[0m\u001b[1m)\u001b[0m, \u001b[1;35marray\u001b[0m\u001b[1m(\u001b[0m\u001b[1m[\u001b[0m\u001b[1;36m90.73583557\u001b[0m\u001b[1m]\u001b[0m\u001b[1m)\u001b[0m, \u001b[1;36m0.04970964696025659\u001b[0m\u001b[1m)\u001b[0m"
            ]
          },
          "execution_count": 34,
          "metadata": {},
          "output_type": "execute_result"
        },
        {
          "data": {
            "text/html": [
              "<pre style=\"white-space:pre;overflow-x:auto;line-height:normal;font-family:Menlo,'DejaVu Sans Mono',consolas,'Courier New',monospace\"></pre>\n"
            ],
            "text/plain": []
          },
          "metadata": {},
          "output_type": "display_data"
        },
        {
          "data": {
            "image/png": "[encoded data removed]",
            "text/plain": [
              "\u001b[1m<\u001b[0m\u001b[1;95mFigure\u001b[0m\u001b[39m size 64\u001b[0m\u001b[1;36m0x480\u001b[0m\u001b[39m with \u001b[0m\u001b[1;36m1\u001b[0m\u001b[39m Axes\u001b[0m\u001b[1m>\u001b[0m"
            ]
          },
          "metadata": {},
          "output_type": "display_data"
        }
      ],
      "source": [
        "sns.regplot(data=df_ski, x=\"AltitudeDown\",y=\"Price\")\n",
        "\n",
        "\n",
        "from sklearn import linear_model\n",
        "\n",
        "reg= linear_model.LinearRegression()\n",
        "reg.fit(df_ski[[\"AltitudeDown\"]],df_ski[[\"Price\"]])\n",
        "\n",
        "reg.coef_, reg.intercept_, reg.score(X=df_ski[[\"AltitudeDown\"]], y=df_ski[[\"Price\"]])\n",
        "\n"
      ]
    },
    {
      "cell_type": "code",
      "execution_count": 23,
      "metadata": {},
      "outputs": [
        {
          "data": {
            "text/html": [
              "<pre style=\"white-space:pre;overflow-x:auto;line-height:normal;font-family:Menlo,'DejaVu Sans Mono',consolas,'Courier New',monospace\"></pre>\n"
            ],
            "text/plain": []
          },
          "metadata": {},
          "output_type": "display_data"
        },
        {
          "data": {
            "text/plain": [
              "\u001b[1m<\u001b[0m\u001b[1;95mAxes:\u001b[0m\u001b[39m \u001b[0m\u001b[33mxlabel\u001b[0m\u001b[39m=\u001b[0m\u001b[32m'AltitudeDown'\u001b[0m\u001b[39m, \u001b[0m\u001b[33mylabel\u001b[0m\u001b[39m=\u001b[0m\u001b[32m'Price'\u001b[0m\u001b[1m>\u001b[0m"
            ]
          },
          "execution_count": 23,
          "metadata": {},
          "output_type": "execute_result"
        },
        {
          "data": {
            "text/html": [
              "<pre style=\"white-space:pre;overflow-x:auto;line-height:normal;font-family:Menlo,'DejaVu Sans Mono',consolas,'Courier New',monospace\"></pre>\n"
            ],
            "text/plain": []
          },
          "metadata": {},
          "output_type": "display_data"
        },
        {
          "data": {
            "image/png": "[encoded data removed]",
            "text/plain": [
              "\u001b[1m<\u001b[0m\u001b[1;95mFigure\u001b[0m\u001b[39m size 64\u001b[0m\u001b[1;36m0x480\u001b[0m\u001b[39m with \u001b[0m\u001b[1;36m1\u001b[0m\u001b[39m Axes\u001b[0m\u001b[1m>\u001b[0m"
            ]
          },
          "metadata": {},
          "output_type": "display_data"
        }
      ],
      "source": [
        "\n",
        "sns.scatterplot(data=df_ski, x=\"AltitudeDown\",y=\"Price\")"
      ]
    },
    {
      "cell_type": "code",
      "execution_count": null,
      "metadata": {},
      "outputs": [],
      "source": []
    },
    {
      "cell_type": "code",
      "execution_count": null,
      "metadata": {},
      "outputs": [
        {
          "data": {
            "text/html": [
              "<pre style=\"white-space:pre;overflow-x:auto;line-height:normal;font-family:Menlo,'DejaVu Sans Mono',consolas,'Courier New',monospace\"></pre>\n"
            ],
            "text/plain": []
          },
          "metadata": {},
          "output_type": "display_data"
        },
        {
          "data": {
            "text/plain": [
              "\u001b[1m<\u001b[0m\u001b[1;95mAxes:\u001b[0m\u001b[39m \u001b[0m\u001b[33mxlabel\u001b[0m\u001b[39m=\u001b[0m\u001b[32m'ElevationGain'\u001b[0m\u001b[39m, \u001b[0m\u001b[33mylabel\u001b[0m\u001b[39m=\u001b[0m\u001b[32m'Price'\u001b[0m\u001b[1m>\u001b[0m"
            ]
          },
          "execution_count": 35,
          "metadata": {},
          "output_type": "execute_result"
        },
        {
          "data": {
            "text/html": [
              "<pre style=\"white-space:pre;overflow-x:auto;line-height:normal;font-family:Menlo,'DejaVu Sans Mono',consolas,'Courier New',monospace\"></pre>\n"
            ],
            "text/plain": []
          },
          "metadata": {},
          "output_type": "display_data"
        },
        {
          "data": {
            "image/png": "[encoded data removed]",
            "text/plain": [
              "\u001b[1m<\u001b[0m\u001b[1;95mFigure\u001b[0m\u001b[39m size 64\u001b[0m\u001b[1;36m0x480\u001b[0m\u001b[39m with \u001b[0m\u001b[1;36m1\u001b[0m\u001b[39m Axes\u001b[0m\u001b[1m>\u001b[0m"
            ]
          },
          "metadata": {},
          "output_type": "display_data"
        }
      ],
      "source": [
        "sns.scatterplot(data=df_ski, y='Price', x='ElevationGain', hue='Range')\n",
        "sns.re\n"
      ]
    },
    {
      "cell_type": "markdown",
      "metadata": {
        "id": "UQryo92jrB0A"
      },
      "source": [
        "# **Part 3: Single quantitative variable by a categorical variable**\n",
        "\n",
        "Scatterplots with hue are a great tool to visualize the relation between *two* quantitative variables, conditional on *one* categorical variable.\n",
        "\n",
        "Here, we address the visualization of *one* quantitative variable, conditional on a categorical one. The chief objective is to assess visually the extent to which the distribution of the quantitative variable depends on the value of the categorical one. That is, to figure out the conditional distribution of the quantitative variable, given the categorical one."
      ]
    },
    {
      "cell_type": "markdown",
      "metadata": {
        "id": "O53GQpCdcg9R"
      },
      "source": [
        "We use the versatile *catplot* tool from seaborn."
      ]
    },
    {
      "cell_type": "markdown",
      "metadata": {
        "id": "pTQsP4pC5bbL"
      },
      "source": [
        "#### Conditional boxplots"
      ]
    },
    {
      "cell_type": "code",
      "execution_count": null,
      "metadata": {
        "id": "p1qMR0aL5SjK"
      },
      "outputs": [],
      "source": [
        "sns.catplot(data = df_ski, x = 'Range', y ='Price', kind = 'box')"
      ]
    },
    {
      "cell_type": "markdown",
      "metadata": {
        "id": "3uijCQKmcnTl"
      },
      "source": [
        "#### Conditional barplots (with standard errors)"
      ]
    },
    {
      "cell_type": "code",
      "execution_count": null,
      "metadata": {
        "id": "o-ZDqXINfEBI"
      },
      "outputs": [],
      "source": [
        "# Mean plots: heights = sample means; bars = +/- 1.96 * standard errors\n",
        "# (where we recall that standard error = standard deviation / sqrt(sample size),\n",
        "# a.k.a. half width of a symmetric confidence interval)\n",
        "sns.catplot(data=df_ski, x='Range', y='Price', kind='bar')"
      ]
    },
    {
      "cell_type": "markdown",
      "metadata": {
        "id": "sPc1RI_RbSoV"
      },
      "source": [
        "How to draw conclusions from such a graph:\n",
        "\n",
        "<font color='blue'>We read significant differences in average prices between resorts in the 'Other' category vs. 'Alpes' and 'Pyrénées', and no significant difference in average prices between 'Alpes' and 'Pyrénées'.</font>"
      ]
    },
    {
      "cell_type": "markdown",
      "metadata": {
        "id": "8ekgXQWEtQPi"
      },
      "source": [
        "## Exercise 3"
      ]
    },
    {
      "cell_type": "markdown",
      "metadata": {
        "id": "62TGIGE2tTFu"
      },
      "source": [
        "1. Illustrate how **AltitudeTop** varies by the mountain ranges.\n",
        "\n",
        "2. Do some mountain ranges offer better deals in terms of prices for elevation gain ? Answer using barplot."
      ]
    },
    {
      "cell_type": "code",
      "execution_count": 39,
      "metadata": {},
      "outputs": [
        {
          "data": {
            "text/html": [
              "<pre style=\"white-space:pre;overflow-x:auto;line-height:normal;font-family:Menlo,'DejaVu Sans Mono',consolas,'Courier New',monospace\"></pre>\n"
            ],
            "text/plain": []
          },
          "metadata": {},
          "output_type": "display_data"
        },
        {
          "data": {
            "text/plain": [
              "\u001b[1m<\u001b[0m\u001b[1;95mseaborn.axisgrid.FacetGrid\u001b[0m\u001b[39m object at \u001b[0m\u001b[1;36m0x79beeb689f90\u001b[0m\u001b[1m>\u001b[0m"
            ]
          },
          "execution_count": 39,
          "metadata": {},
          "output_type": "execute_result"
        },
        {
          "data": {
            "text/html": [
              "<pre style=\"white-space:pre;overflow-x:auto;line-height:normal;font-family:Menlo,'DejaVu Sans Mono',consolas,'Courier New',monospace\"></pre>\n"
            ],
            "text/plain": []
          },
          "metadata": {},
          "output_type": "display_data"
        },
        {
          "data": {
            "image/png": "[encoded data removed]",
            "text/plain": [
              "\u001b[1m<\u001b[0m\u001b[1;95mFigure\u001b[0m\u001b[39m size \u001b[0m\u001b[1;36m511.\u001b[0m\u001b[39m111x500 with \u001b[0m\u001b[1;36m1\u001b[0m\u001b[39m Axes\u001b[0m\u001b[1m>\u001b[0m"
            ]
          },
          "metadata": {},
          "output_type": "display_data"
        }
      ],
      "source": [
        "sns.catplot(data=df_ski, x='Range', y='AltitudeTop', kind='bar')"
      ]
    },
    {
      "cell_type": "code",
      "execution_count": 38,
      "metadata": {},
      "outputs": [
        {
          "data": {
            "text/html": [
              "<pre style=\"white-space:pre;overflow-x:auto;line-height:normal;font-family:Menlo,'DejaVu Sans Mono',consolas,'Courier New',monospace\"></pre>\n"
            ],
            "text/plain": []
          },
          "metadata": {},
          "output_type": "display_data"
        },
        {
          "data": {
            "text/plain": [
              "\u001b[1m<\u001b[0m\u001b[1;95mseaborn.axisgrid.FacetGrid\u001b[0m\u001b[39m object at \u001b[0m\u001b[1;36m0x79bef1c60910\u001b[0m\u001b[1m>\u001b[0m"
            ]
          },
          "execution_count": 38,
          "metadata": {},
          "output_type": "execute_result"
        },
        {
          "data": {
            "text/html": [
              "<pre style=\"white-space:pre;overflow-x:auto;line-height:normal;font-family:Menlo,'DejaVu Sans Mono',consolas,'Courier New',monospace\"></pre>\n"
            ],
            "text/plain": []
          },
          "metadata": {},
          "output_type": "display_data"
        },
        {
          "data": {
            "image/png": "[encoded data removed]",
            "text/plain": [
              "\u001b[1m<\u001b[0m\u001b[1;95mFigure\u001b[0m\u001b[39m size \u001b[0m\u001b[1;36m511.\u001b[0m\u001b[39m111x500 with \u001b[0m\u001b[1;36m1\u001b[0m\u001b[39m Axes\u001b[0m\u001b[1m>\u001b[0m"
            ]
          },
          "metadata": {},
          "output_type": "display_data"
        }
      ],
      "source": [
        "sns.catplot(data=df_ski, x='Range', y='AltitudeTop', kind='box')\n"
      ]
    },
    {
      "cell_type": "code",
      "execution_count": null,
      "metadata": {},
      "outputs": [],
      "source": []
    },
    {
      "cell_type": "markdown",
      "metadata": {
        "id": "BI-0WCALi-JN"
      },
      "source": [
        "## Numerical statistics (advanced topic)"
      ]
    },
    {
      "cell_type": "markdown",
      "metadata": {
        "id": "f-pwPvR4jU-O"
      },
      "source": [
        "Commands are of the following form, featuring **groupby**:"
      ]
    },
    {
      "cell_type": "code",
      "execution_count": null,
      "metadata": {
        "id": "1p5PaT3WjI4P"
      },
      "outputs": [],
      "source": [
        "df_ski.groupby('Range')['Price'].describe()"
      ]
    },
    {
      "cell_type": "markdown",
      "metadata": {},
      "source": [
        "YA UNE FONCTION QUI S4APPELLE GROUPBY, ELLE EST TRES PRATIQUE AHAHAHAHA"
      ]
    },
    {
      "cell_type": "code",
      "execution_count": null,
      "metadata": {},
      "outputs": [],
      "source": []
    },
    {
      "cell_type": "markdown",
      "metadata": {
        "id": "lDf-LIS1O7he"
      },
      "source": [
        "# **Wrap up/Summary of main commands**"
      ]
    },
    {
      "cell_type": "markdown",
      "metadata": {
        "id": "3AsCTRUaPRTl"
      },
      "source": [
        "Today, we\n",
        "- extracted subsets of rows and/or columns from a data set,\n",
        "    - based on logical conditions, defining masks:\n",
        "\n",
        "    `df['row_mask']`\n",
        "\n",
        "    `df['col_mask']`\n",
        "\n",
        "    - and applied this all to zooming in scatter plots (to removing outliers);\n",
        "- displayed pairs of quantitative variables by a categorical variable:\n",
        "\n",
        "    `sns.scatterplot(data = df, x = 'variable_name', y = 'variable_name', hue = 'variable_name')`\n",
        "\n",
        "- saw how to graphically (and numerically) analyze a quantitative variable by a categorical variable, with box plots\n",
        "\n",
        "    `sns.catplot(data = df, x = 'variable_name', y = 'variable_name', kind = 'box')`\n",
        "\n",
        " and barplots:\n",
        "\n",
        "    `sns.catplot(data = df, x = 'variable_name', y = 'variable_name',kind= 'bar')`\n",
        "\n",
        "- Don't forget the **homework 2** for next time!\n"
      ]
    }
  ],
  "metadata": {
    "colab": {
      "provenance": [],
      "toc_visible": true
    },
    "kernelspec": {
      "display_name": "datascience",
      "language": "python",
      "name": "python3"
    },
    "language_info": {
      "codemirror_mode": {
        "name": "ipython",
        "version": 3
      },
      "file_extension": ".py",
      "mimetype": "text/x-python",
      "name": "python",
      "nbconvert_exporter": "python",
      "pygments_lexer": "ipython3",
      "version": "3.13.5"
    }
  },
  "nbformat": 4,
  "nbformat_minor": 0
}
